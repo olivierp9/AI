{
 "cells": [
  {
   "cell_type": "markdown",
   "metadata": {
    "colab_type": "text",
    "id": "7cRcaduOsoAJ"
   },
   "source": [
    "# INF 8215 - Intelligence artif.: méthodes et algorithmes \n",
    "## Automne 2018 - TP1 - Méthodes de recherche \n",
    "### Membres de l'équipe\n",
    "    - Membre 1\n",
    "    - Membre 2\n",
    "    - Membre 3\n",
    "\n"
   ]
  },
  {
   "cell_type": "markdown",
   "metadata": {
    "colab_type": "text",
    "id": "GoJ5Y8SZsoAM"
   },
   "source": [
    "## LE VÉLO À MONTRÉAL\n",
    "Chaque année, Montréal accueille à peu près 10 millions de touristes. Soucieuse de la qualité de leur séjour, Tourisme Montréal a entamé un projet de développement d’une nouvelle application mobile afin d’assister les touristes lors de leurs déplacements dans la ville. Cette application a pour but d’aider l’utilisateur à planifier sa visite des importantes attractions de la ville, de la façon la plus efficace possible (ie, sur la durée la plus courte). Étant donné qu’il a été observé que le moyen de transport privilégié des touristes pour explorer Montréal est le vélo, cette application a pour but de générer des circuits cyclables de durée minimale. Plus précisément, étant donné une liste d’attractions munie de points de départ et d’arrivée, la tâche est de proposer, à chaque fois, un chemin qui passe par toutes les attractions indiquées une seule fois, qui débute au point de départ et qui s’achève au point d’arrivée et dont la durée de trajet est minimale.\n",
    "\n",
    "<img src=\"images/montreal.png\" alt=\"\" width=\"800\"/>\n",
    "\n",
    "Le travail demandé dans ce TP est de développer l’algorithme interne de l’application. Nous explorerons trois mécanismes de résolution différents :\n",
    "1. Définition et exploration naïve d’un arbre de recherche\n",
    "2. Exploration plus efficace en utilisant l’algorithme A*\n",
    "3. Optimisation locale en utilisant une métaheuristique de recherche à voisinage variable (Variable Neighborhood Search, VNS)\n",
    "\n",
    "## PRÉSENTATION DU PROBLÈME\n",
    "Une façon naturelle de représenter notre problème est d’utiliser un graphe $G=(V, A)$ dirigé et complet. Chaque sommet dans $V$ est une attraction donnée et chaque arc dans $A$ représente une piste cyclable entre deux attractions distinctes. Chaque paire de sommets $i$ et $j$ est reliée par une paire d’arcs $a_{ij}$ et $a_{ji}$ dont les poids respectifs $w(a_{ij})$ et $w(a_{ji})$ ne sont pas nécessairement égaux. Concrètement, ces poids représentent la durée du trajet d’un sommet à l’autre (ainsi, $w$ est telle que $w : A \\to\\mathbb R^+$).\n",
    "\n",
    "La liste des attractions à visiter est indiquée comme la suite $P = (p_1, ..., p_m)$ où $p_1$ et $p_m$ sont les sommets de départ et d’arrivée, respectivement.\n",
    "\n",
    "## 1. DÉFINITION ET EXPLORATION NAÏVE D’UN ARBRE DE RECHERCHE (5 points)\n",
    "Définissons un arbre de recherche $\\mathcal{T}$ où chaque nœud représente une solution partielle $S$. Soient $V(S) \\subseteq V$ et $A(S) \\subset A$ l’ensemble des sommets visités et l’ensemble des arêtes sélectionnées, respectivement. Ainsi, le coût d’une solution est donné par :\n",
    "$$g(S) = \\sum_{a \\in A(S)} w(a)$$\n",
    "\n",
    "Seule l’origine est visitée initialement. Ainsi, la racine de l’arbre de recherche contient une solution partielle vide $S_{\\textrm{root}}$ telle que $V(S_{\\textrm{root}})=\\{p_1\\}$ et $A(S_{\\textrm{root}}) = \\emptyset$.\n",
    "\n",
    "<img src=\"images/tree1.png\" alt=\"\" width=\"100\"/>\n",
    "\n",
    "À la suite de cela, les nœuds subséquents dans l’arbre sont tous créés en ajoutant, à chaque solution partielle $S$, un sommet subséquent dans $P\\backslash V(S)$ avec l’arc correspondant dans $A$ qui relie ce sommet à la dernière attraction visitée. Le sommet $p_m$ n’est ajouté qu’à la fin, lorsqu’il est le seul sommet non encore visité. Plus formellement, si on note le sommet à ajouter $c$ et le dernier sommet visité $c'$, alors la nouvelle solution partielle obtenue est $V(S) \\gets V(S) \\cup \\{c\\}$ et $A(S) \\gets A(S) \\cup \\{(c’,c)\\}$.\n",
    "\n",
    "Ci-dessous est un exemple de l’arbre étendu depuis sa racine où $c'$ = $p_1$ :\n",
    "\n",
    "<img src=\"images/tree2.png\" alt=\"\" width=\"400\"/>\n",
    "\n",
    "À la fin, les feuilles de l’arbre sont des solutions complètes :\n",
    "\n",
    "<img src=\"images/tree3.png\" alt=\"\" width=\"600\"/>\n",
    "\n",
    "### 1.1 Code\n",
    "La fonction fournie ci-dessous permet d’extraire d’un fichier un graphe qui répond aux spécifications détaillées plus haut. Cette fonction retourne une $\\texttt{ndarray}$ ($\\texttt{graph}$) de taille $|V|\\times |V|$ où $\\texttt{graph[i,j]}$ représente le temps nécessaire pour traverser la piste cyclable de $i$ vers $j$.\n",
    "\n"
   ]
  },
  {
   "cell_type": "code",
   "execution_count": 1,
   "metadata": {},
   "outputs": [],
   "source": [
    "import numpy as np\n",
    "\n",
    "def read_graph():\n",
    "    return np.loadtxt(\"montreal\", dtype='i', delimiter=',')\n",
    "\n",
    "graph = read_graph()"
   ]
  },
  {
   "cell_type": "markdown",
   "metadata": {},
   "source": [
    "Notre première tâche est de définir la classe qui représente une solution partielle. Son constructeur est donné et reçoit comme argument la liste des sommets (attractions $P$) à visiter et le graphe ($G$). Celui-ci crée la solution $S_{\\textrm{root}}$ avec les attributs suivants :\n",
    "- $\\texttt{g}$ : le coût de la solution partielle\n",
    "- $\\texttt{visited}$ : représente $V(S)$, discuté plus haut. Par définition, $\\mathtt{vistited[-1]}$ représente le dernier sommet ajouté, $ c $.\n",
    "- $\\texttt{not}\\_\\texttt{visited}$ : représente $P\\backslash V(S)$\n",
    "- $\\texttt{graph}$: représente le graphe G\n",
    "\n",
    "Ensuite, il est demandé d’implanter la méthode $\\texttt{add}$ qui mets à jour la solution partielle en ajoutant une nouvelle attraction à visiter parmi la liste $\\texttt{not}\\_\\texttt{visited}$. Cette méthode reçoit comme arguments l’index du sommet à visiter parmi $\\texttt{not}\\_\\texttt{visited}$ ainsi que le graphe courant.\n",
    "\n",
    "Implantez $\\texttt{add}$ :"
   ]
  },
  {
   "cell_type": "code",
   "execution_count": 2,
   "metadata": {},
   "outputs": [],
   "source": [
    "import copy\n",
    "\n",
    "class Solution:\n",
    "    def __init__(self, places, graph):\n",
    "        \"\"\"\n",
    "        places: a list containing the indices of attractions to visit\n",
    "        p1 = places[0]\n",
    "        pm = places[-1]\n",
    "        \"\"\"\n",
    "        self.g = 0 # current cost\n",
    "        self.graph = graph\n",
    "        self.visited = [places[0]] # list of already visited attractions\n",
    "        self.not_visited = copy.deepcopy(places[1:]) # list of attractions not yet visited\n",
    "    \n",
    "    def __𝚕𝚝__(self, other):\n",
    "        return other > self.g\n",
    "\n",
    "    def __le__(self,other):\n",
    "        return(self.g<=other)\n",
    "\n",
    "    def __gt__(self,other):\n",
    "        return(self.g>other)\n",
    "\n",
    "    def __ge__(self,other):\n",
    "        return(self.g>=other)\n",
    "\n",
    "    def __eq__(self,other):\n",
    "        return (self.g==other)\n",
    "        \n",
    "    def add(self, idx):\n",
    "        \"\"\"\n",
    "        Adds the point in position idx of not_visited list to the solution\n",
    "        \"\"\"\n",
    "        self.visited.append(idx)\n",
    "        self.not_visited.remove(idx)\n",
    "        self.g += self.graph[self.visited[-2],idx]\n",
    "        \n",
    "    def swap(self, idx_1, idx_2):\n",
    "        if idx_1>idx_2:\n",
    "            idx_1,idx_2=idx_2,idx_1\n",
    "        v = self.visited\n",
    "        place_1 = v[idx_1]\n",
    "        place_2 = v[idx_2]\n",
    "        if abs(idx_1-idx_2)>1:\n",
    "            weight_1 =  self.graph[v[idx_1-1],place_1]\n",
    "            weight_2 =  self.graph[place_1,v[idx_1+1]]\n",
    "            weight_3 =  self.graph[v[idx_2-1],place_2]\n",
    "            weight_4 =  self.graph[place_2,v[idx_2+1]]    \n",
    "            self.g -= (weight_1 + weight_2 + weight_3 + weight_4)\n",
    "            weight_1 =  self.graph[v[idx_1-1],place_2]\n",
    "            weight_2 =  self.graph[place_2,v[idx_1+1]]\n",
    "            weight_3 =  self.graph[v[idx_2-1],place_1]\n",
    "            weight_4 =  self.graph[place_1,v[idx_2+1]]    \n",
    "            self.g += (weight_1 + weight_2 + weight_3 + weight_4)\n",
    "            self.visited[idx_1] = place_2\n",
    "            self.visited[idx_2] = place_1\n",
    "        else:\n",
    "            weight_1 =  self.graph[v[idx_1-1],place_1]\n",
    "            weight_2 =  self.graph[place_1,place_2]\n",
    "            weight_3 =  self.graph[place_2,v[idx_2+1]]\n",
    "            self.g -= (weight_1 + weight_2 + weight_3)\n",
    "            weight_1 =  self.graph[v[idx_1-1],place_2]\n",
    "            weight_2 =  self.graph[place_2,place_1]\n",
    "            weight_3 =  self.graph[place_1,v[idx_2+1]]\n",
    "            self.g += (weight_1 + weight_2 + weight_3)\n",
    "            self.visited[idx_1] = place_2\n",
    "            self.visited[idx_2] = place_1            \n"
   ]
  },
  {
   "cell_type": "markdown",
   "metadata": {},
   "source": [
    "La prochaine étape est d’implanter une stratégie de parcours de l’arbre de recherche. Une première méthode simple est naïve est de mettre en œuvre une recherche en largeur ([Breadth-first search](https://moodle.polymtl.ca/pluginfile.php/444662/mod_resource/content/1/recherche_en_largeur.mp4), BFS).\n",
    "\n",
    "Implantez $\\texttt{bfs}$ qui mets en œuvre cette recherche. Elle prend en arguments le graphe courant ainsi que la liste des attractions à visiter $P$ et elle retourne la meilleure solution trouvée."
   ]
  },
  {
   "cell_type": "code",
   "execution_count": 13,
   "metadata": {},
   "outputs": [],
   "source": [
    "from queue import Queue\n",
    "\n",
    "def bfs(graph, places):\n",
    "    \"\"\"\n",
    "    Returns the best solution which spans over all attractions indicated in 'places'\n",
    "    \"\"\"\n",
    "    count = 0\n",
    "    n = len(places) - 1\n",
    "    solutions = Queue() # cree une file contenant les solutions visites\n",
    "    sol = Solution(places=places, graph=graph) # cree la solution initale\n",
    "    solutions.put(sol)  # la solution initiale est place dans la file\n",
    "    for i in range(n):  # pour les places restant a visiter\n",
    "        if i != n-1:    # s il reste plus qu une place a visiter\n",
    "            for j in range(solutions.qsize()): # on effectue la recherche pour les successeurs non visites\n",
    "                sol_j = solutions.get()        # j_eme solution\n",
    "                count += 1\n",
    "                not_visited = sol_j.not_visited[:-1]\n",
    "                for k in not_visited:\n",
    "                    temp = copy.deepcopy(sol_j)\n",
    "                    temp.add(k)\n",
    "                    solutions.put(temp)\n",
    "        else: # s il reste plus une place a visiter\n",
    "            for j in range(solutions.qsize()):\n",
    "                sol_j = solutions.get() # j_eme solution\n",
    "                count += 1\n",
    "                temp = copy.deepcopy(sol_j)\n",
    "                temp.add(places[-1])\n",
    "                solutions.put(temp)\n",
    "    # on retourne la solution de cout minimale\n",
    "    min_cost = float('Inf')\n",
    "    min_sol = None\n",
    "    for i in range(solutions.qsize()):\n",
    "        sol_i = solutions.get()\n",
    "        if min_cost > sol_i:\n",
    "            min_cost = sol_i.g\n",
    "            min_sol = sol_i\n",
    "    print('nombre de noeuds:',count)\n",
    "    return min_sol\n",
    "    # retourne le nombre de noeuds explores\n",
    "    # total de larbre\n",
    "    \n",
    "    \n",
    "    \n",
    "    "
   ]
  },
  {
   "cell_type": "markdown",
   "metadata": {},
   "source": [
    "### 1.2 Expérimentations\n",
    "\n",
    "On propose trois exemples d’illustration pour tester notre recherche en largeur. Le premier exemple prend en compte 7 attractions, le second 10 et le dernier 11. Vu que cette recherche énumère toutes les solutions possibles, le troisième exemple risque de prendre un temps considérable à s’achever.\n",
    "\n",
    "Mettez en œuvre ces expériences et notez le nombre de nœuds explorés ainsi que le temps de calcul requis."
   ]
  },
  {
   "cell_type": "code",
   "execution_count": 14,
   "metadata": {
    "colab": {},
    "colab_type": "code",
    "id": "H1lFkJPJBcR3"
   },
   "outputs": [
    {
     "name": "stdout",
     "output_type": "stream",
     "text": [
      "nombre de noeuds: 326\n",
      "27\n",
      "--- 0.019003629684448242 seconds ---\n"
     ]
    }
   ],
   "source": [
    "import time \n",
    "\n",
    "#test 1  --------------  OPT. SOL. = 27\n",
    "start_time = time.time()\n",
    "places=[0, 5, 13, 16, 6, 9, 4]\n",
    "sol = bfs(graph=graph, places=places)\n",
    "print(sol.g)\n",
    "print(\"--- %s seconds ---\" % (time.time() - start_time))"
   ]
  },
  {
   "cell_type": "code",
   "execution_count": 8,
   "metadata": {
    "colab": {},
    "colab_type": "code",
    "id": "Yn9mUPhBB9hv"
   },
   "outputs": [
    {
     "name": "stdout",
     "output_type": "stream",
     "text": [
      "109601\n",
      "30\n",
      "--- 5.9119789600372314 seconds ---\n"
     ]
    }
   ],
   "source": [
    "#test 2 -------------- OPT. SOL. = 30\n",
    "start_time = time.time()\n",
    "places=[0, 1, 4, 9, 20, 18, 16, 5, 13, 19]\n",
    "sol = bfs(graph=graph, places=places)\n",
    "print(sol.g)\n",
    "print(\"--- %s seconds ---\" % (time.time() - start_time))"
   ]
  },
  {
   "cell_type": "code",
   "execution_count": 9,
   "metadata": {},
   "outputs": [
    {
     "name": "stdout",
     "output_type": "stream",
     "text": [
      "986410\n",
      "26\n",
      "--- 54.1689190864563 seconds ---\n"
     ]
    }
   ],
   "source": [
    "#test 3 -------------- OPT. SOL. = 26\n",
    "start_time = time.time()\n",
    "places=[0, 2, 7, 13, 11, 16, 15, 7, 9, 8, 4]\n",
    "sol = bfs(graph=graph, places=places)\n",
    "print(sol.g)\n",
    "print(\"--- %s seconds ---\" % (time.time() - start_time))"
   ]
  },
  {
   "cell_type": "markdown",
   "metadata": {},
   "source": [
    "## 2. RECHERCHE GUIDÉE À L’AIDE DE L’ALGORITHME A\\* (7.5 points)\n",
    "Pour notre deuxième méthode de recherche, au lieu d’énumérer toutes les solutions possibles, nous effectuons une recherche guidée à l’aide de l’algorithme A\\*. Comme vu en classe, A\\* est une recherche où les nœuds à explorer sont priorisés en fonction du coût courant d’une solution $g(S)$ ainsi que d’une estimation du coût restant vers la solution finale donné par une heuristique $h(S)$.\n",
    "\n",
    "Dans le cas d’une minimisation, $h(S)$ est une borne inférieure du coût réel restant et on priorise l’exploration des nœuds dont $f(S) = g(S)+h(S)$ est le plus petit. Avec cette méthode, la première solution complète trouvée est assurément la solution optimale.\n",
    "\n",
    "Pour une solution donnée $S$ avec un dernier sommet visité $c$, une possible fonction $h$ est telle que :\n",
    "\n",
    "$h(S) =$ Le poids du chemin le plus court entre $c$ et $p_m$ dans le sous graphe $G_S$ contenant les sommets $P\\backslash V(S) \\cup \\{c\\}$\n",
    "\n",
    "Remarque que ce chemin le plus court utilisé dans le calcul de l’estimation $h$ entre l’attraction courante et l’arrivée ne passera pas nécessairement pas tous les sommets restants.\n",
    "\n",
    "\n",
    "Notre algorithme A\\* se présente comme ceci :\n",
    "1. Définir l’arbre de recherche $\\mathcal{T}$ exactement comme auparavant. Le calcul de $h$ pour la solution initiale est inutile : c’est la seule solution qu’on a.\n",
    "2. Sélectionner le meilleur nœud candidat pour expansion. La solution partielle $S_b$ de ce nœud candidat est telle que :\n",
    "\n",
    "   $$ f(S_b) \\leq f(S) \\quad \\forall S \\in \\mathcal{T} \\qquad S_B, S \\text{ pas encore sélectionnés}$$\n",
    "\n",
    "   Si $S_b$ est une solution complète, l’algorithme s’arrête et $S_b$ est assurément la solution optimale, sinon on continue à l’étape 3.\n",
    "3. Créer des solutions subséquentes qui connectent la dernière attraction visitée à chacune des attractions restantes. Attention, on ignore l’arrivée tant que celle-ci n’est pas la seule qui reste.\n",
    " - Mettez à jour les listes des sommets visités et non visités\n",
    " - Calculez $g$ et $h$ pour chaque solution\n",
    " - Insérer la nouvelle solution partielle dans l’arbre.\n",
    "4. Répéter 2 et 3.\n",
    "\n",
    "\n",
    "### 2.1 Code\n",
    "Commençons d’abord par compléter la classe $\\texttt{Solution}$ pour prendre en compte les changements nécessaires à A\\* (on a besoin notamment d’un attribut supplémentaire pour l’estimation $h$).\n",
    "\n",
    "On verra plus tard que A\\* s’implante à l’aide d’une file de priorité (priority queue). Pour que celle-ci marche, il est nécessaire de surcharger (overload) l’opérateur de comparaison « < » relatif à nos objets $\\texttt{Solution}$. En sachant ce qui fait qu'une solution est meilleure qu’une autre pour l'exploration, implanter la méthode $\\_\\_\\texttt{lt}\\_\\_$ dans $\\texttt{Solution}$. Son prototype est $\\_\\_\\texttt{lt}\\_\\_\\texttt{(self, other)}$.\n",
    "\n",
    "Maintenant, nous devons implanter la fonction d’estimation $h$. Pour cela, on utilise l’[algorithme de Dijkstra](https://en.wikipedia.org/wiki/Dijkstra%27s_algorithm) pour trouver le chemin le plus court entre la dernière attraction visitée $c$ et l’arrivée $p_m$. Il est possible d’adapter cet algorithme pour qu’il s’arrête dès que le chemin le plus court entre c et pm est trouvé.\n",
    "\n",
    "**Prescriptions d’implantation :**\n",
    "- Appliquer Dijkstra pour trouver le chemin le plus court entre $c$ et $p_m$\n",
    "- Retourner le poids de ce chemin"
   ]
  },
  {
   "cell_type": "code",
   "execution_count": 10,
   "metadata": {
    "colab": {},
    "colab_type": "code",
    "id": "PxRTHhZmNEOB"
   },
   "outputs": [],
   "source": [
    "import heapq\n",
    "\n",
    "class Vertex:\n",
    "    \"\"\"\n",
    "    Une classe servant a representer les noeuds d un graphe\n",
    "    \"\"\"\n",
    "    def __init__(self,place_id, dist=float('Inf')):\n",
    "        self.place_id = place_id\n",
    "        self.dist = dist # current cost\n",
    "\n",
    "    def  __𝚕𝚝__(self, other):\n",
    "        return other > self.dist\n",
    "     \n",
    "    def __le__(self,other):\n",
    "        return(self.dist<=other)\n",
    "\n",
    "    def __gt__(self,other):\n",
    "        return(self.dist>other)\n",
    "\n",
    "    def __ge__(self,other):\n",
    "        return(self.dist>=other)\n",
    "\n",
    "    def __eq__(self,other):\n",
    "        return (self.dist==other)\n",
    "\n",
    "    def __str__(self):\n",
    "        return str(self.dist)\n",
    "    def __repr__(self):\n",
    "        return str(self.dist)\n",
    "\n",
    "def fastest_path_estimation(sol):\n",
    "    \"\"\"\n",
    "    Returns the time spent on the fastest path between \n",
    "    the current vertex c and the ending vertex pm\n",
    "    \"\"\"\n",
    "    c = sol.visited[-1]      # recolte le noeud c\n",
    "    pm = sol.not_visited[-1] # recolte le noeud pm\n",
    "    v_list=[]            # cree un liste\n",
    "    T = []\n",
    "    heapq.heapify(T)\n",
    "    temp = Vertex(c,0)\n",
    "    heapq.heappush(T, (temp,c))\n",
    "\n",
    "    v_list.append(temp)\n",
    "    for i in sol.not_visited[:-1]: # on ajoute les noeuds non visite a la liste\n",
    "        temp = Vertex(i)\n",
    "        v_list.append(temp)\n",
    "        heapq.heappush(T, (temp,i))\n",
    "    pm_vertex = Vertex(pm)\n",
    "    v_list.append(pm_vertex)\n",
    "    heapq.heappush(T, (pm_vertex,pm))\n",
    "\n",
    "    while T:\n",
    "        sol_min=heapq.heappop(T)\n",
    "        idx = sol_min[1]\n",
    "        v_min = sol_min[0]\n",
    "\n",
    "        for i in v_list:\n",
    "            if i.place_id != idx:\n",
    "                dist = graph[idx,i.place_id]+v_min.dist\n",
    "                if dist < i.dist:\n",
    "                    i.dist = dist\n",
    "    \n",
    "    return pm_vertex.dist\n",
    "    \n",
    "    "
   ]
  },
  {
   "cell_type": "markdown",
   "metadata": {
    "colab_type": "text",
    "id": "9pjLMOpju-a9"
   },
   "source": [
    "Finalement, il est temps d’implanter A\\*. On aura besoin d’une file de priorité qui retournera toujours le meilleur nœud candidat de $\\mathcal{T}$ pour l’étendre (l’opérateur surchargé de comparaison assure cela).\n",
    "\n",
    "**Prescriptions d’implantation (cf. détail des étapes de l’algorithme plus haut) :**\n",
    "- Tant que les solutions extraites de la file de priorité ne sont pas complètes :\n",
    "  *\tSélectionner et étendre le nœud extrait de la file comme détaillé plus haut\n",
    "  * Calculer $g$ et $h$ pour chaque nouvelle solution partielle obtenue\n",
    "  * Remettre ces solutions dans la file\n",
    "- Retourner la première solution complète extraite de la file (c’est la solution optimale)"
   ]
  },
  {
   "cell_type": "code",
   "execution_count": 15,
   "metadata": {
    "colab": {},
    "colab_type": "code",
    "id": "D6e45uNMvanU"
   },
   "outputs": [],
   "source": [
    "def A_star(graph, places):\n",
    "    \"\"\"\n",
    "    Performs the A* algorithm\n",
    "    \"\"\"\n",
    "    \n",
    "    # blank solution\n",
    "    root = Solution(places=places, graph=graph)\n",
    "    \n",
    "        \n",
    "    # search tree T\n",
    "    T = []\n",
    "    heapq.heapify(T)\n",
    "    heapq.heappush(T, (0,root))\n",
    "    c_min=heapq.heappop(T)\n",
    "    sol_min = c_min[1]\n",
    "    last_visited = sol_min.visited[-1]\n",
    "    to_visit = sol_min.not_visited[:-1]\n",
    "    count = 1\n",
    "    # tant que tous noeuds de la solution minimal na pas ete visite\n",
    "    while to_visit:\n",
    "        # pour tous les voisins non visite\n",
    "        for i in to_visit:\n",
    "            # on cree une nouvelle solution possible avec ce voisin\n",
    "            temp_sol = copy.deepcopy(sol_min)\n",
    "            temp_sol.add(i)\n",
    "            # on calcule le cout h\n",
    "            f = temp_sol.g + fastest_path_estimation(temp_sol)\n",
    "            # on ajoute cette solution a l arbre\n",
    "            heapq.heappush(T, (f, temp_sol))\n",
    "        c_min=heapq.heappop(T)\n",
    "        count += 1\n",
    "        sol_min = c_min[1]\n",
    "        last_visited = sol_min.visited[-1]\n",
    "        to_visit = sol_min.not_visited[:-1]\n",
    "\n",
    "    # on retourne la solution minimale\n",
    "    print('nombre de noeuds:',count)\n",
    "    sol_min.add(sol_min.not_visited[-1])\n",
    "    return sol_min"
   ]
  },
  {
   "cell_type": "markdown",
   "metadata": {
    "colab_type": "text",
    "id": "T2NhBa4GsoAP"
   },
   "source": [
    "### 2.2 Expérimentations\n",
    "\n",
    "On ajoute un Quatrième exemple d’exécution avec 15 attractions. Là encore, mettez en œuvre ces expériences avec le nouvel algorithme A\\* conçu et notez le nombre de nœuds explorés ainsi que le temps de calcul requis."
   ]
  },
  {
   "cell_type": "code",
   "execution_count": 16,
   "metadata": {
    "colab": {},
    "colab_type": "code",
    "id": "H1lFkJPJBcR3",
    "scrolled": true
   },
   "outputs": [
    {
     "name": "stdout",
     "output_type": "stream",
     "text": [
      "nombre de noeuds: 54\n",
      "27\n",
      "[0, 5, 13, 16, 6, 9, 4]\n",
      "--- 0.009001493453979492 seconds ---\n"
     ]
    }
   ],
   "source": [
    "#test 1  --------------  OPT. SOL. = 27\n",
    "start_time = time.time()\n",
    "places=[0, 5, 13, 16, 6, 9, 4]\n",
    "astar_sol = A_star(graph=graph, places=places)\n",
    "print(astar_sol.g)\n",
    "print(astar_sol.visited)\n",
    "print(\"--- %s seconds ---\" % (time.time() - start_time))"
   ]
  },
  {
   "cell_type": "code",
   "execution_count": 17,
   "metadata": {
    "colab": {},
    "colab_type": "code",
    "id": "Yn9mUPhBB9hv",
    "scrolled": true
   },
   "outputs": [
    {
     "name": "stdout",
     "output_type": "stream",
     "text": [
      "nombre de noeuds: 330\n",
      "30\n",
      "[0, 1, 4, 5, 9, 13, 16, 18, 20, 19]\n",
      "--- 0.15244722366333008 seconds ---\n"
     ]
    }
   ],
   "source": [
    "#test 2  --------------  OPT. SOL. = 30\n",
    "start_time = time.time()\n",
    "places=[0, 1, 4, 9, 20, 18, 16, 5, 13, 19]\n",
    "astar_sol = A_star(graph=graph, places=places)\n",
    "print(astar_sol.g)\n",
    "print(astar_sol.visited)\n",
    "print(\"--- %s seconds ---\" % (time.time() - start_time))"
   ]
  },
  {
   "cell_type": "code",
   "execution_count": 18,
   "metadata": {
    "colab": {},
    "colab_type": "code",
    "id": "ZX5SD5CRBfKg",
    "scrolled": false
   },
   "outputs": [
    {
     "name": "stdout",
     "output_type": "stream",
     "text": [
      "nombre de noeuds: 962\n",
      "26\n",
      "[0, 2, 7, 7, 9, 13, 15, 16, 11, 8, 4]\n",
      "--- 0.514148473739624 seconds ---\n"
     ]
    }
   ],
   "source": [
    "#test 3  --------------  OPT. SOL. = 26\n",
    "start_time = time.time()\n",
    "places=[0, 2, 7, 13, 11, 16, 15, 7, 9, 8, 4]\n",
    "astar_sol = A_star(graph=graph, places=places)\n",
    "print(astar_sol.g)\n",
    "print(astar_sol.visited)\n",
    "print(\"--- %s seconds ---\" % (time.time() - start_time))"
   ]
  },
  {
   "cell_type": "code",
   "execution_count": 19,
   "metadata": {
    "scrolled": true
   },
   "outputs": [
    {
     "name": "stdout",
     "output_type": "stream",
     "text": [
      "nombre de noeuds: 171713\n",
      "40\n",
      "[0, 3, 5, 13, 15, 18, 20, 16, 11, 12, 14, 9, 4, 2, 1]\n",
      "--- 185.25803017616272 seconds ---\n"
     ]
    }
   ],
   "source": [
    "#test 4  --------------  OPT. SOL. = 40\n",
    "start_time = time.time()\n",
    "places=[0, 2, 20, 3, 18, 12, 13, 5, 11, 16, 15, 4, 9, 14, 1]\n",
    "astar_sol = A_star(graph=graph, places=places)\n",
    "print(astar_sol.g)\n",
    "print(astar_sol.visited)\n",
    "print(\"--- %s seconds ---\" % (time.time() - start_time))"
   ]
  },
  {
   "cell_type": "markdown",
   "metadata": {},
   "source": [
    "### 2.3 Une meilleure borne inférieure\n",
    "\n",
    "Notre algorithme A\\* est déjà beaucoup plus efficace qu’une recherche naïve. Cependant, la qualité de l’heuristique $h$ a un très grand impact sur la vitesse de A\\*. Une heuristique plus serrée devrait accélérer A\\* de façon significative. Notre estimation $h$ basée sur Dijkstra est très large à cause du fait qu’elle ne considère pas toutes les attractions restantes.\n",
    "\n",
    "Une meilleure heuristique pourrait être basée sur la **Spanning Arborescence of Minimum Weight** qui s’apparente à une Minimum Spanning Tree pour graphes orientés. On propose de construire une telle Spanning Arborescence sur le reste des attractions $P\\backslash V(S) \\cup \\{c\\}$. Ici la racine est la dernière attraction visitée $c$. Une façon classique de résoudre ce problème est d’utiliser l’[algorithme de Edmonds](https://en.wikipedia.org/wiki/Edmonds%27_algorithm).\n",
    "\n",
    "Implantez cet algorithme et refaites les expériences avec A\\* en utilisant cette nouvelle heuristique :"
   ]
  },
  {
   "cell_type": "code",
   "execution_count": 20,
   "metadata": {},
   "outputs": [],
   "source": [
    "# faire fonction is less\n",
    "\n",
    "def arborescence_contraction_1(v_dict, graph, to_start):\n",
    "    edge_dict = {}\n",
    "    min_cycle_src = None\n",
    "    min_cycle_dst = None\n",
    "    min_w_cycle = float('Inf')\n",
    "    test = False\n",
    "    for j in v_dict: # destination\n",
    "        min_v_dst = None\n",
    "        min_v_src = None\n",
    "        min_v_i = None\n",
    "        min_w = float('Inf')\n",
    "        if j != to_start:\n",
    "            if type(j) != int:\n",
    "                for vertices_dst in j: # differente destination du noeud\n",
    "                    for i in v_dict: # source\n",
    "                        if type(i) != int:\n",
    "                            for vertices_src in i: # differente source du noeud\n",
    "                                if i != j:\n",
    "                                    if vertices_src != vertices_dst:\n",
    "                                        temp_w = graph[vertices_src, vertices_dst]\n",
    "                                        if temp_w < min_w:\n",
    "                                            min_w = temp_w\n",
    "                                            min_v_src = vertices_src\n",
    "                                            min_v_dst = vertices_dst\n",
    "                                            min_v_i = i\n",
    "                        else:\n",
    "                            if i != vertices_dst:\n",
    "                                temp_w = graph[i, vertices_dst]\n",
    "                                if temp_w < min_w:\n",
    "                                    min_w = temp_w\n",
    "                                    min_v_src = i\n",
    "                                    min_v_dst = vertices_dst\n",
    "                                    min_v_i = i\n",
    "\n",
    "            else:\n",
    "                for i in v_dict: # source\n",
    "                    if type(i) != int:\n",
    "                        for vertices_src in i: # differente source du noeud\n",
    "                            if vertices_src != j:\n",
    "                                temp_w = graph[vertices_src, j]\n",
    "                                if temp_w < min_w:\n",
    "                                    min_w = temp_w\n",
    "                                    min_v_src = vertices_src\n",
    "                                    min_v_dst = j\n",
    "                                    min_v_i = i\n",
    "                    else:\n",
    "                        if i != j:\n",
    "                            temp_w = graph[i, j]\n",
    "                            if temp_w < min_w:\n",
    "                                min_w = temp_w\n",
    "                                min_v_src = i\n",
    "                                min_v_dst = j\n",
    "                                min_v_i = i\n",
    "        if min_v_src is not None:\n",
    "            edge_dict[min_v_dst] = {}\n",
    "            edge_dict[min_v_dst]['w'] = min_w\n",
    "            edge_dict[min_v_dst]['src'] = min_v_src\n",
    "            v_dict[j]['p'] = min_v_i\n",
    "            v_dict[j]['w'] = min_w\n",
    "    return edge_dict\n",
    "\n",
    "def find_cycle_1(v_dict, to_start):\n",
    "    cycle_list = []\n",
    "    v_dict_len = len(v_dict)\n",
    "    cycle_id = []\n",
    "    cycle_list = []\n",
    "    test = True\n",
    "    for v in v_dict: # on recherche les cycles\n",
    "        if v != to_start:\n",
    "            leaf = v\n",
    "            parent = v_dict[v]['p']\n",
    "            cycle = True\n",
    "            for j in range(v_dict_len):\n",
    "                if parent == to_start:\n",
    "                    cycle = False\n",
    "                    break\n",
    "                leaf = parent\n",
    "                parent = v_dict[leaf]['p']\n",
    "            if cycle:\n",
    "                # trouver le cycle en faisant une iteration\n",
    "                cycle_path = list()\n",
    "                cycle_id = list()\n",
    "                begin = leaf\n",
    "                cycle_path.append(begin)\n",
    "                leaf = v_dict[leaf]['p']\n",
    "                parent = v_dict[leaf]['p']\n",
    "                while begin != leaf:\n",
    "                    cycle_path.append(leaf)\n",
    "                    leaf = v_dict[leaf]['p']\n",
    "                    parent = v_dict[leaf]['p']\n",
    "                test = True\n",
    "                for j in cycle_list:\n",
    "                    for k in j:\n",
    "                        if k in cycle_path:\n",
    "                            test = False\n",
    "                            break\n",
    "                if test:\n",
    "                    cycle_list.append(cycle_path)\n",
    "    return cycle_list\n",
    "\n",
    "\n",
    "\n",
    "def minimum_spanning_arborescence(sol):\n",
    "    \"\"\"\n",
    "    Returns the cost to reach the vertices in the unvisited list \n",
    "    \"\"\"\n",
    "    sol = copy.deepcopy(sol)\n",
    "    to_start = sol.visited[-1]# recolte le noeud c\n",
    "    to_end = sol.not_visited[-1] # recolte le noeud pm\n",
    "    v_dict={}            # cree un liste\n",
    "    v_dict[(to_start)] = {}\n",
    "    for i in sol.not_visited[:-1]: # on ajoute les noeuds non visite a la liste\n",
    "        v_dict[(i)] = {}\n",
    "    v_dict[(to_end)] = {}          # on ajoute le noeud pm a la liste\n",
    "\n",
    "    v_init = copy.deepcopy(v_dict)\n",
    "    v_dict_list = []\n",
    "    v_dict_list.append(v_init)\n",
    "    e_dict_list = []\n",
    "    new_g_list = []\n",
    "    cycle_list_list = []\n",
    "    len_cycle = 1\n",
    "    graph_init = copy.deepcopy(sol.graph)\n",
    "    count = 0\n",
    "    while len_cycle != 0 and count <= 40:\n",
    "        count+=1\n",
    "        ## cree un nouveau graph de la classe graph\n",
    "        edge_dict = arborescence_contraction_1(v_dict, sol.graph, to_start)\n",
    "        e_dict_list.append(edge_dict)\n",
    "        cycle_list = find_cycle_1(v_dict, to_start)\n",
    "        cycle_list_list.append(cycle_list)\n",
    "\n",
    "        \n",
    "        new_g = sol.graph\n",
    "\n",
    "        for v in v_dict:\n",
    "            for cycle in cycle_list:\n",
    "                for node in cycle:\n",
    "                    if type(v) != int:\n",
    "                        for src_id in v:\n",
    "                            if type(node) != int:\n",
    "                                for dst_id in node:\n",
    "                                    new_g[src_id,dst_id] -= v_dict[node]['w']\n",
    "                            else:\n",
    "                                new_g[src_id,node] -= v_dict[node]['w']                            \n",
    "                    else:\n",
    "                        if type(node) != int:\n",
    "                            for dst_id in node:\n",
    "                                new_g[v,dst_id] -= v_dict[node]['w']\n",
    "                        else:\n",
    "                            new_g[v,node] -= v_dict[node]['w']\n",
    "        sol.graph = new_g\n",
    "        len_cycle = len(cycle_list)\n",
    "\n",
    "        if len_cycle==0:\n",
    "            break\n",
    "        v_temp = copy.deepcopy(v_init)        \n",
    "        v_dict = {}\n",
    "        v_dict[(to_start)] = {}\n",
    "        for cycle in cycle_list:\n",
    "            temp_list = []\n",
    "            for node in cycle:\n",
    "                if type(node) == int:\n",
    "                    temp_list.append(node)\n",
    "                    v_temp.pop(node, None)\n",
    "                else:\n",
    "                    for p_id in node:\n",
    "                        temp_list.append(p_id)\n",
    "                        v_temp.pop(p_id, None)\n",
    "            v_dict[tuple(temp_list)] = {}\n",
    "        \n",
    "        for node in v_temp:\n",
    "            v_dict[node] = {}\n",
    "        v_dict_list.append(v_dict)\n",
    "        \n",
    "        # update des poids de g\n",
    "    if count <=40:\n",
    "        final_edge_dict = {}\n",
    "        final_node_dict = {}\n",
    "\n",
    "        for i in range(len(v_dict_list)):\n",
    "            v_dict = v_dict_list.pop()\n",
    "            e_dict = e_dict_list.pop()\n",
    "\n",
    "            for e in e_dict:\n",
    "                test = True\n",
    "                if e not in final_node_dict:\n",
    "                    for v in v_dict:\n",
    "                        if type(v) != int:\n",
    "                            for p_id in v:\n",
    "                                if p_id in final_node_dict and e in v:\n",
    "                                    test = False\n",
    "                        else:\n",
    "                            if v in final_node_dict and e == v:\n",
    "                                test = False\n",
    "                else:\n",
    "                    test = False\n",
    "                if test == True:\n",
    "                    final_edge_dict[e] = e_dict[e]\n",
    "                    final_node_dict[e] = {}\n",
    "        g_cost = 0\n",
    "        for e in final_edge_dict:\n",
    "            g_cost += graph_init[final_edge_dict[e]['src'], e]\n",
    "    else:\n",
    "        g_cost = graph[to_start,to_end]\n",
    "    return g_cost\n",
    "    "
   ]
  },
  {
   "cell_type": "code",
   "execution_count": 21,
   "metadata": {},
   "outputs": [],
   "source": [
    "\n",
    "\n",
    "def A_star_tree(graph, places):\n",
    "    \"\"\"\n",
    "    Performs the A* algorithm\n",
    "    \"\"\"\n",
    "    \n",
    "    # blank solution\n",
    "    root = Solution(places=places, graph=graph)\n",
    "    \n",
    "        \n",
    "    # search tree T\n",
    "    T = []\n",
    "    heapq.heapify(T)\n",
    "    heapq.heappush(T, (0,root))\n",
    "    c_min=heapq.heappop(T)\n",
    "    sol_min = c_min[1]\n",
    "    last_visited = sol_min.visited[-1]\n",
    "    count = 1\n",
    "    # tant que tous noeuds de la solution minimal na pas ete visite\n",
    "    while sol_min.not_visited[:-1]:\n",
    "\n",
    "        \n",
    "        sol_min = c_min[1]\n",
    "        last_visited = sol_min.visited[-1]\n",
    "        # pour tous les voisins non visite\n",
    "        for i in sol_min.not_visited[:-1]:\n",
    "            # on cree une nouvelle solution possible avec ce voisin\n",
    "            temp_sol = copy.deepcopy(sol_min)\n",
    "            temp_sol.add(i)\n",
    "            # on calcule le cout h\n",
    "            f = temp_sol.g + minimum_spanning_arborescence(temp_sol)\n",
    "            # on ajoute cette solution a l arbre\n",
    "            heapq.heappush(T, (f, temp_sol))\n",
    "        c_min=heapq.heappop(T)\n",
    "        count += 1\n",
    "        sol_min = c_min[1]\n",
    "        last_visited = sol_min.visited[-1]\n",
    "\n",
    "    # on retourne la solution minimale\n",
    "    print('nombre de noeuds:',count)\n",
    "    sol_min.add(sol_min.not_visited[-1])\n",
    "    return sol_min"
   ]
  },
  {
   "cell_type": "code",
   "execution_count": 22,
   "metadata": {
    "scrolled": true
   },
   "outputs": [
    {
     "name": "stdout",
     "output_type": "stream",
     "text": [
      "nombre de noeuds: 16\n",
      "27\n",
      "[0, 5, 13, 16, 6, 9, 4]\n",
      "--- 0.008002042770385742 seconds ---\n"
     ]
    }
   ],
   "source": [
    "#test 1  --------------  OPT. SOL. = 27\n",
    "start_time = time.time()\n",
    "places=[0, 5, 13, 16, 6, 9, 4]\n",
    "astar_sol = A_star_tree(graph=graph, places=places)\n",
    "print(astar_sol.g)\n",
    "print(astar_sol.visited)\n",
    "print(\"--- %s seconds ---\" % (time.time() - start_time))"
   ]
  },
  {
   "cell_type": "code",
   "execution_count": 23,
   "metadata": {},
   "outputs": [
    {
     "name": "stdout",
     "output_type": "stream",
     "text": [
      "nombre de noeuds: 26\n",
      "30\n",
      "[0, 1, 4, 5, 9, 13, 16, 18, 20, 19]\n",
      "--- 0.02699565887451172 seconds ---\n"
     ]
    }
   ],
   "source": [
    "#test 2  --------------  OPT. SOL. = 30\n",
    "start_time = time.time()\n",
    "places=[0, 1, 4, 9, 20, 18, 16, 5, 13, 19]\n",
    "astar_sol = A_star_tree(graph=graph, places=places)\n",
    "print(astar_sol.g)\n",
    "print(astar_sol.visited)\n",
    "print(\"--- %s seconds ---\" % (time.time() - start_time))"
   ]
  },
  {
   "cell_type": "code",
   "execution_count": 24,
   "metadata": {},
   "outputs": [
    {
     "name": "stdout",
     "output_type": "stream",
     "text": [
      "nombre de noeuds: 61\n",
      "26\n",
      "[0, 2, 7, 7, 9, 13, 15, 16, 11, 8, 4]\n",
      "--- 0.04802966117858887 seconds ---\n"
     ]
    }
   ],
   "source": [
    "#test 3  --------------  OPT. SOL. = 26\n",
    "start_time = time.time()\n",
    "places=[0, 2, 7, 13, 11, 16, 15, 7, 9, 8, 4]\n",
    "astar_sol = A_star_tree(graph=graph, places=places)\n",
    "print(astar_sol.g)\n",
    "print(astar_sol.visited)\n",
    "print(\"--- %s seconds ---\" % (time.time() - start_time))"
   ]
  },
  {
   "cell_type": "code",
   "execution_count": 25,
   "metadata": {},
   "outputs": [
    {
     "name": "stdout",
     "output_type": "stream",
     "text": [
      "nombre de noeuds: 130\n",
      "40\n",
      "[0, 3, 5, 14, 12, 13, 15, 18, 20, 16, 11, 9, 4, 2, 1]\n",
      "--- 0.6723382472991943 seconds ---\n"
     ]
    }
   ],
   "source": [
    "#test 4  --------------  OPT. SOL. = 40\n",
    "start_time = time.time()\n",
    "places=[0, 2, 20, 3, 18, 12, 13, 5, 11, 16, 15, 4, 9, 14, 1]\n",
    "astar_sol = A_star_tree(graph=graph, places=places)\n",
    "print(astar_sol.g)\n",
    "print(astar_sol.visited)\n",
    "print(\"--- %s seconds ---\" % (time.time() - start_time))"
   ]
  },
  {
   "cell_type": "markdown",
   "metadata": {
    "colab_type": "text",
    "id": "r9oJnFHbxrvj"
   },
   "source": [
    "## 3. RECHERCHE LOCALE À VOISINAGE VARIABLE  (7.5 points)\n",
    "\n",
    "Cette fois-ci, au lieu de construire une solution optimale depuis une solution vide, on commence d’une solution complète, non-optimale, qu’on améliore à l’aide d’une recherche locale en utilisant une recherche locale à voisinage variable ([Variable Neighborhood Search](https://en.wikipedia.org/wiki/Variable_neighborhood_search), VNS).\n",
    "\n",
    "<img src=\"images/vns.png\" alt=\"\" width=\"800\"/>\n",
    "\n",
    "### 3.1 Code\n",
    "\n",
    "On commence par créer une solution initiale. Celle-ci est une suite ordonnée des attractions de $p_1$ à $p_m$ dans $P$. Pour cela, on fait appel à une [recherche en profondeur (Depth-First Search, DFS)](https://moodle.polymtl.ca/pluginfile.php/445484/mod_resource/content/1/recherche_en_profondeur.mp4) qu’on arrête aussitôt qu’une solution complète est trouvée. Pour aider à diversifier la recherche, la méthode permettant de générer une solution initiale peut être randomisée de telle sorte que l'algorithme VNS puisse lancer la recherche dans différentes régions de l'espace solution. Ainsi, dans la fonction DFS, la sélection de l'enfant pour continuer la recherche doit être aléatoire.\n",
    "\n",
    "**Prescriptions d’implantation :**\n",
    "- Mettre en œuvre une recherche en profondeur\n",
    "- Créer un objet $\\texttt{Solution}$ relatif à cette solution\n",
    "- Ajuster les attributs de cet objet avec les bonnes valeurs de coûts et d’attractions visitées\n",
    "- Retourner la solution trouvée."
   ]
  },
  {
   "cell_type": "code",
   "execution_count": 26,
   "metadata": {
    "colab": {},
    "colab_type": "code",
    "id": "JKx9Z-ayxzSw"
   },
   "outputs": [],
   "source": [
    "from random import shuffle, randint, sample\n",
    "\n",
    "class Edge:\n",
    "    \"\"\"\n",
    "    Une classe servant a representer les arretes d un graphe\n",
    "    \"\"\"\n",
    "    def __init__(self, start, end, weight):\n",
    "        self.start = start # current cost\n",
    "        self.end = end # noeud precedent\n",
    "        self.weight=weight # numero de la place\n",
    "\n",
    "    def  __𝚕𝚝__(self, other):\n",
    "        return other > self.weight\n",
    "     \n",
    "    def __le__(self,other):\n",
    "        return(self.weight<=other)\n",
    "\n",
    "    def __gt__(self,other):\n",
    "        return(self.weight>other)\n",
    "\n",
    "    def __ge__(self,other):\n",
    "        return(self.weight>=other)\n",
    "\n",
    "    def __eq__(self,other):\n",
    "        return (self.weight==other)\n",
    "\n",
    "class Vertex_id:\n",
    "    \"\"\"\n",
    "    Une classe servant a representer les noeuds d un graphe\n",
    "    \"\"\"\n",
    "    def __init__(self, place_id, dist=float('Inf')):\n",
    "        self.dist = dist # current cost\n",
    "        self.place_id=place_id # numero de la place\n",
    "        self.visited = False\n",
    "        self.order = 0\n",
    "        self.parent = None\n",
    "\n",
    "    def  __𝚕𝚝__(self, other):\n",
    "        return other > self.place_id\n",
    "     \n",
    "    def __le__(self,other):\n",
    "        return(self.place_id<=other)\n",
    "\n",
    "    def __gt__(self,other):\n",
    "        return(self.place_id>other)\n",
    "\n",
    "    def __ge__(self,other):\n",
    "        return(self.place_id>=other)\n",
    "\n",
    "    def __eq__(self,other):\n",
    "        return (self.place_id==other)\n",
    "    \n",
    "    def __hash__(self):\n",
    "        return hash(str(self.place_id))\n",
    "    \n",
    "    def __len__(self):\n",
    "        return 1\n",
    "\n",
    "    def __getitem__(self, i):\n",
    "        return self\n",
    "    \n",
    "    def is_visited(self):\n",
    "        return self.visited\n",
    "    \n",
    "    def set_visited(self):\n",
    "        self.visited = True\n",
    "\n",
    "    def set_order(self, n):\n",
    "        self.order = n\n",
    "\n",
    "class Graph():\n",
    "    def __init__(self, vertices, edges=[]):\n",
    "        self.v = vertices\n",
    "        self.edges = edges\n",
    "        self.graph = {}\n",
    "        self.count = 1\n",
    "        for i in vertices:\n",
    "            self.graph[i] = []\n",
    "        for i in edges:\n",
    "            self.graph[i.start].append(i.end)\n",
    "        \n",
    "    def get_vertives(self):\n",
    "        return self.v\n",
    "    \n",
    "    def get_neighbors(self, node):\n",
    "        return self.graph[node]\n",
    "\n",
    "def initial_sol(graph, places):\n",
    "    \"\"\"\n",
    "    Return a completed initial solution\n",
    "    \"\"\"\n",
    "    sol = Solution(places=places, graph=graph)\n",
    "    v_list = []\n",
    "    for i in places:\n",
    "        v_list.append(Vertex_id(i))\n",
    "    e_list = []\n",
    "    for v1 in v_list:\n",
    "        for v2 in v_list:\n",
    "            if v1 != v2:\n",
    "                e = Edge(v1,v2, graph[v1.place_id,v2.place_id])\n",
    "                e_list.append(e)\n",
    "    g = Graph(v_list,e_list)\n",
    "    dfs(g, sol)\n",
    "    return sol\n",
    "\n",
    "\n",
    "def dfs(G, sol):\n",
    "    \"\"\"\n",
    "    Performs a Depth-First Search\n",
    "    \"\"\"\n",
    "    for node in G.get_vertives():\n",
    "        if not node.is_visited():\n",
    "            dfs_visit(G, node, sol)   \n",
    "    return\n",
    "\n",
    "\n",
    "def dfs_visit(G, root, sol):\n",
    "    pile = []\n",
    "    pile.append(root)  # root devient racine d'une nouvelle arborescence.\n",
    "    final = sol.not_visited[-1]\n",
    "    while pile:\n",
    "        u = pile.pop()\n",
    "        if not u.is_visited():\n",
    "            if u.place_id != 0:\n",
    "                sol.add(u.place_id)\n",
    "            u.set_visited()\n",
    "            u.set_order(G.count)\n",
    "            G.count += 1\n",
    "        for neighbor in G.get_neighbors(u):\n",
    "            if not neighbor.is_visited():\n",
    "                if neighbor != final:\n",
    "                    pile.append(neighbor)\n",
    "            pile = sample(pile, len(pile))\n",
    "\n",
    "    return"
   ]
  },
  {
   "cell_type": "markdown",
   "metadata": {
    "colab_type": "text",
    "id": "JnTFBFqvXpNz"
   },
   "source": [
    "Pour définir une VNS, il faut définir les $k_\\textrm{max}$ voisinages de recherche locale possibles. Pour notre problème, une bonne et simple répartition des voisinages est telle qu’un voisinage $k$ correspond à la permutation de $k$-paires de sommets dans $V(S)$.\n",
    "\n",
    "On appelle **shaking** l’étape de génération d’une solution dans le voisinage $k$. Le travail qui suit correspond à l’implantation de cette étape. $\\texttt{shaking}$ admet 3 arguments que sont la solution de départ, l’indice du voisinage $k$ ainsi que le graph courant.\n",
    "\n",
    "Attention, avant d’implanter $\\texttt{shaking}$, il est nécessaire de créer une méthode $\\texttt{swap}$ dans la classe $\\texttt{Solution}$. Cette méthode permet de mettre en œuvre la permutation dans une solution donnée (en mettant à jour tous les attributs nécessaires pour que la solution soit cohérente).\n",
    "\n",
    "**Prescriptions d’implantation de shaking :**\n",
    "- Sélectionner au hasard deux indices $i$ et $j$ différents et tels que $i, j \\in \\{2,...,m-1\\}$\n",
    "- Faire une copie de la solution courante et faire la permutation\n",
    "- Retourner la solution créée"
   ]
  },
  {
   "cell_type": "code",
   "execution_count": 27,
   "metadata": {
    "colab": {},
    "colab_type": "code",
    "id": "EWLAhZUlfFOZ"
   },
   "outputs": [],
   "source": [
    "def shaking(sol, k):\n",
    "    \"\"\"\n",
    "    Returns a solution on the k-th neighrboohood of sol\n",
    "    \"\"\"\n",
    "    len_places = len(sol.visited)\n",
    "    new_sol = copy.deepcopy(sol)\n",
    "    for i in range(k):\n",
    "        idx_1 = randint(1, len_places-2) # last number not included in randint (high exclusive)\n",
    "        idx_2 = randint(1, len_places-2)\n",
    "        while idx_1 == idx_2:\n",
    "            idx_2 = randint(1, len_places-2)\n",
    "        new_sol.swap(idx_1,idx_2)\n",
    "    return new_sol"
   ]
  },
  {
   "cell_type": "markdown",
   "metadata": {
    "colab_type": "text",
    "id": "PD_PxV54sl1o"
   },
   "source": [
    "Une dernière étape essentielle dans une VNS est l’application d’un algorithme de recherche locale à la solution issue du shaking. Pour cela, on propose la recherche locale 2-opt. Celle-ci intervertit deux arcs dans la solution, à la recherche d’une qui est meilleure.\n",
    "\n",
    "Pour un sommet $ i $, soit $ i '$ le successeur immédiat de $ i $ dans la séquence $ V (S) $. L'algorithme 2-opt fonctionne comme suit: pour chaque paire de sommets non consécutifs $ i, j $, vérifiez si en échangeant la position des sommets $ i '$ et $ j $ entraîne une amélioration du coût de la solution. Si oui, effectuez cet échange. Ce processus se répète jusqu'à ce qu'il n'y ait plus d'échanges rentables. On réalise cette opération pour toutes les paires d’arcs éligibles à la recherche du plus petit coût.\n",
    "\n",
    "<img src=\"images/2opt.png\" alt=\"\" width=\"800\"/>\n",
    "\n",
    "<img src=\"images/2opt2.png\" alt=\"\" width=\"800\"/>\n",
    "\n",
    "\n",
    "Implantez $\\texttt{local}\\_\\texttt{search}\\_\\texttt{2opt}$. \n",
    "\n",
    "**Prescriptions d’implantation :**\n",
    "- Considérer chaque paire d’indices $i = \\{2,..,m-3\\}$ and $j = \\{i+2, m-1\\}$\n",
    "- Si l’échange donne un plus bas coût, on le réalise\n",
    "- Répéter jusqu’à optimum local."
   ]
  },
  {
   "cell_type": "code",
   "execution_count": 63,
   "metadata": {
    "colab": {},
    "colab_type": "code",
    "id": "_97d-BQV8tzt"
   },
   "outputs": [],
   "source": [
    "def local_search_2opt(sol):\n",
    "    \"\"\"\n",
    "    Apply 2-opt local search over sol\n",
    "    \"\"\"\n",
    "    len_places = len(sol.visited)\n",
    "    new_sol = copy.deepcopy(sol)\n",
    "    price = sol.g\n",
    "    for i in range(1, len_places-3):\n",
    "        for j in range(i+2, len_places-1):\n",
    "            new_sol.swap(i,j)\n",
    "            if new_sol < price:\n",
    "                price = new_sol.g\n",
    "            else:\n",
    "                new_sol.swap(i,j)\n",
    "        init = new_sol.g\n",
    "    if sol < new_sol:\n",
    "        return sol\n",
    "    return new_sol\n",
    "            \n"
   ]
  },
  {
   "cell_type": "markdown",
   "metadata": {
    "colab_type": "text",
    "id": "ZPG90m1g_HgA"
   },
   "source": [
    "Finalement, il est temps d'implanter notre VNS. La méthode $\\texttt{vns}$ reçoit une solution complète, le graphe courant, le nombre maximal de voisinages et un temps de calcul limite. Celle-ci retourne la solution optimale trouvée\n",
    "\n",
    "**Prescriptions d’implantation :**\n",
    "- À chaque itération, la VNS génère une solution dans le k-ème voisinage (shaking) à partir de la meilleure solution courante et applique une recherche locale 2-opt dessus\n",
    "- Si la nouvelle solution trouvée a un meilleur coût, mettre à jour la meilleure solution courante\n",
    "- Répéter le processus jusqu'à $\\texttt{t}\\_\\texttt{max}$"
   ]
  },
  {
   "cell_type": "code",
   "execution_count": 64,
   "metadata": {
    "colab": {},
    "colab_type": "code",
    "id": "ZQwCN2HB_m-q"
   },
   "outputs": [],
   "source": [
    "import time\n",
    "\n",
    "    # do whatever you do\n",
    "def vns(sol, k_max, t_max):\n",
    "    \"\"\"\n",
    "    Performs the VNS algorithm\n",
    "    \"\"\"\n",
    "    best_sol = copy.deepcopy(sol)\n",
    "    t_end = time.time() + t_max\n",
    "\n",
    "    while time.time() < t_end:\n",
    "        new_sol = copy.deepcopy(shaking(best_sol, k_max))\n",
    "        temp_sol = copy.deepcopy(local_search_2opt(new_sol))\n",
    "        if temp_sol < best_sol:\n",
    "            best_sol = copy.deepcopy(temp_sol)\n",
    "    return best_sol\n",
    "        "
   ]
  },
  {
   "cell_type": "markdown",
   "metadata": {
    "colab_type": "text",
    "id": "z5TPMN2XCkPc"
   },
   "source": [
    "### 3.2 Experiments\n",
    "\n",
    "Mettez en oeuvre la VNS sur les exemples d'illustration suivants et raportez les solutions obtenue:"
   ]
  },
  {
   "cell_type": "code",
   "execution_count": 65,
   "metadata": {
    "colab": {},
    "colab_type": "code",
    "id": "Ox0PScj5CTzq"
   },
   "outputs": [
    {
     "name": "stdout",
     "output_type": "stream",
     "text": [
      "27\n",
      "[0, 5, 13, 16, 6, 9, 4]\n",
      "--- 1.001448631286621 seconds ---\n"
     ]
    }
   ],
   "source": [
    "# test 1  --------------  OPT. SOL. = 27\n",
    "places=[0, 5, 13, 16, 6, 9, 4]\n",
    "sol = initial_sol(graph=graph, places=places)\n",
    "start_time = time.time()\n",
    "vns_sol = vns(sol=sol, k_max=10, t_max=1)\n",
    "print(vns_sol.g)\n",
    "print(vns_sol.visited)\n",
    "print(\"--- %s seconds ---\" % (time.time() - start_time))"
   ]
  },
  {
   "cell_type": "code",
   "execution_count": 66,
   "metadata": {
    "colab": {},
    "colab_type": "code",
    "id": "a5IB2FbqCTz3"
   },
   "outputs": [
    {
     "name": "stdout",
     "output_type": "stream",
     "text": [
      "30\n",
      "[0, 1, 4, 5, 9, 13, 16, 18, 20, 19]\n",
      "--- 1.010676622390747 seconds ---\n"
     ]
    }
   ],
   "source": [
    "#test 2  --------------  OPT. SOL. = 30\n",
    "places=[0, 1, 4, 9, 20, 18, 16, 5, 13, 19]\n",
    "sol = initial_sol(graph=graph, places=places)\n",
    "\n",
    "start_time = time.time()\n",
    "vns_sol = vns(sol=sol, k_max=10, t_max=1)\n",
    "print(vns_sol.g)\n",
    "print(vns_sol.visited)\n",
    "\n",
    "print(\"--- %s seconds ---\" % (time.time() - start_time))"
   ]
  },
  {
   "cell_type": "code",
   "execution_count": 67,
   "metadata": {
    "colab": {},
    "colab_type": "code",
    "id": "nkNwTmxPCTz9"
   },
   "outputs": [
    {
     "name": "stdout",
     "output_type": "stream",
     "text": [
      "26\n",
      "[0, 2, 7, 7, 9, 13, 15, 16, 11, 8, 4]\n",
      "--- 1.0105760097503662 seconds ---\n"
     ]
    }
   ],
   "source": [
    "# test 3  --------------  OPT. SOL. = 26\n",
    "places=[0, 2, 7, 13, 11, 16, 15, 7, 9, 8, 4]\n",
    "sol = initial_sol(graph=graph, places=places)\n",
    "\n",
    "start_time = time.time()\n",
    "vns_sol = vns(sol=sol, k_max=10, t_max=1)\n",
    "print(vns_sol.g)\n",
    "print(vns_sol.visited)\n",
    "print(\"--- %s seconds ---\" % (time.time() - start_time))"
   ]
  },
  {
   "cell_type": "code",
   "execution_count": 70,
   "metadata": {},
   "outputs": [
    {
     "name": "stdout",
     "output_type": "stream",
     "text": [
      "40\n",
      "[0, 3, 9, 13, 15, 18, 20, 16, 11, 12, 14, 5, 4, 2, 1]\n",
      "--- 1.002246618270874 seconds ---\n"
     ]
    }
   ],
   "source": [
    "# test 4  --------------  OPT. SOL. = 40\n",
    "places=[0, 2, 20, 3, 18, 12, 13, 5, 11, 16, 15, 4, 9, 14, 1]\n",
    "sol = initial_sol(graph=graph, places=places)\n",
    "\n",
    "start_time = time.time()\n",
    "vns_sol = vns(sol=sol, k_max=10, t_max=1)\n",
    "print(vns_sol.g)\n",
    "print(vns_sol.visited)\n",
    "print(\"--- %s seconds ---\" % (time.time() - start_time))"
   ]
  },
  {
   "cell_type": "markdown",
   "metadata": {},
   "source": [
    "## 4. BONUS (1 point)\n",
    "\n",
    "Expliquez dans quelle situation chacun des algorithmes développés est plus approprié (prenez en compte l’évolutivité du problème)"
   ]
  },
  {
   "cell_type": "code",
   "execution_count": 45,
   "metadata": {},
   "outputs": [
    {
     "name": "stdout",
     "output_type": "stream",
     "text": [
      "on utilise BFS quand le poid de toutes les arretes sont égales\n",
      "la distance entre toutes les attractions est la même\n",
      "\n",
      "on utilise A* lorsqu'on désire la solution optimale et que les poids des arrêtes ne sont pas tous égales\n",
      "on désire partir une compagnie d'attraction touristique et on veut avoir l'itinéraire qui est toujours le même le plus efficace possible\n",
      "\n",
      "on utilise l'algorithme génétique lorsque nous voulons une solution rapide qui ne doit pas nécessairement être la solution optimale\n",
      "on génère des tournées d'attractions personnalisées pour chaque demande de personne alors pas le temps de faire beaucoup de calculs\n"
     ]
    }
   ],
   "source": [
    "print(\"on utilise BFS quand le poid de toutes les arretes sont égales\")\n",
    "print(\"la distance entre toutes les attractions est la même\\n\")\n",
    "\n",
    "print(\"on utilise A* lorsqu'on désire la solution optimale et que les poids des arrêtes ne sont pas tous égales\")\n",
    "print(\"on désire partir une compagnie d'attraction touristique et on veut avoir l'itinéraire qui est toujours le même le plus efficace possible\\n\")\n",
    "\n",
    "\n",
    "print(\"on utilise l'algorithme génétique lorsque nous voulons une solution rapide qui ne doit pas nécessairement être la solution optimale\")\n",
    "print(\"on génère des tournées d'attractions personnalisées pour chaque demande de personne alors pas le temps de faire beaucoup de calculs\")"
   ]
  },
  {
   "cell_type": "code",
   "execution_count": null,
   "metadata": {},
   "outputs": [],
   "source": []
  }
 ],
 "metadata": {
  "colab": {
   "name": "tp1_2018.ipynb",
   "provenance": [],
   "version": "0.3.2"
  },
  "kernelspec": {
   "display_name": "Python 3",
   "language": "python",
   "name": "python3"
  },
  "language_info": {
   "codemirror_mode": {
    "name": "ipython",
    "version": 3
   },
   "file_extension": ".py",
   "mimetype": "text/x-python",
   "name": "python",
   "nbconvert_exporter": "python",
   "pygments_lexer": "ipython3",
   "version": "3.6.5"
  }
 },
 "nbformat": 4,
 "nbformat_minor": 1
}
