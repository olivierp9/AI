{
 "cells": [
  {
   "cell_type": "markdown",
   "metadata": {
    "colab_type": "text",
    "id": "7cRcaduOsoAJ"
   },
   "source": [
    "# INF 8215 - Intelligence artif.: méthodes et algorithmes \n",
    "## Automne 2018 - TP1 - Méthodes de recherche \n",
    "### Membres de l'équipe\n",
    "    - Membre 1\n",
    "    - Membre 2\n",
    "    - Membre 3\n",
    "\n"
   ]
  },
  {
   "cell_type": "markdown",
   "metadata": {
    "colab_type": "text",
    "id": "GoJ5Y8SZsoAM"
   },
   "source": [
    "## LE VÉLO À MONTRÉAL\n",
    "Chaque année, Montréal accueille à peu près 10 millions de touristes. Soucieuse de la qualité de leur séjour, Tourisme Montréal a entamé un projet de développement d’une nouvelle application mobile afin d’assister les touristes lors de leurs déplacements dans la ville. Cette application a pour but d’aider l’utilisateur à planifier sa visite des importantes attractions de la ville, de la façon la plus efficace possible (ie, sur la durée la plus courte). Étant donné qu’il a été observé que le moyen de transport privilégié des touristes pour explorer Montréal est le vélo, cette application a pour but de générer des circuits cyclables de durée minimale. Plus précisément, étant donné une liste d’attractions munie de points de départ et d’arrivée, la tâche est de proposer, à chaque fois, un chemin qui passe par toutes les attractions indiquées une seule fois, qui débute au point de départ et qui s’achève au point d’arrivée et dont la durée de trajet est minimale.\n",
    "\n",
    "<img src=\"images/montreal.png\" alt=\"\" width=\"800\"/>\n",
    "\n",
    "Le travail demandé dans ce TP est de développer l’algorithme interne de l’application. Nous explorerons trois mécanismes de résolution différents :\n",
    "1. Définition et exploration naïve d’un arbre de recherche\n",
    "2. Exploration plus efficace en utilisant l’algorithme A*\n",
    "3. Optimisation locale en utilisant une métaheuristique de recherche à voisinage variable (Variable Neighborhood Search, VNS)\n",
    "\n",
    "## PRÉSENTATION DU PROBLÈME\n",
    "Une façon naturelle de représenter notre problème est d’utiliser un graphe $G=(V, A)$ dirigé et complet. Chaque sommet dans $V$ est une attraction donnée et chaque arc dans $A$ représente une piste cyclable entre deux attractions distinctes. Chaque paire de sommets $i$ et $j$ est reliée par une paire d’arcs $a_{ij}$ et $a_{ji}$ dont les poids respectifs $w(a_{ij})$ et $w(a_{ji})$ ne sont pas nécessairement égaux. Concrètement, ces poids représentent la durée du trajet d’un sommet à l’autre (ainsi, $w$ est telle que $w : A \\to\\mathbb R^+$).\n",
    "\n",
    "La liste des attractions à visiter est indiquée comme la suite $P = (p_1, ..., p_m)$ où $p_1$ et $p_m$ sont les sommets de départ et d’arrivée, respectivement.\n",
    "\n",
    "## 1. DÉFINITION ET EXPLORATION NAÏVE D’UN ARBRE DE RECHERCHE (5 points)\n",
    "Définissons un arbre de recherche $\\mathcal{T}$ où chaque nœud représente une solution partielle $S$. Soient $V(S) \\subseteq V$ et $A(S) \\subset A$ l’ensemble des sommets visités et l’ensemble des arêtes sélectionnées, respectivement. Ainsi, le coût d’une solution est donné par :\n",
    "$$g(S) = \\sum_{a \\in A(S)} w(a)$$\n",
    "\n",
    "Seule l’origine est visitée initialement. Ainsi, la racine de l’arbre de recherche contient une solution partielle vide $S_{\\textrm{root}}$ telle que $V(S_{\\textrm{root}})=\\{p_1\\}$ et $A(S_{\\textrm{root}}) = \\emptyset$.\n",
    "\n",
    "<img src=\"images/tree1.png\" alt=\"\" width=\"100\"/>\n",
    "\n",
    "À la suite de cela, les nœuds subséquents dans l’arbre sont tous créés en ajoutant, à chaque solution partielle $S$, un sommet subséquent dans $P\\backslash V(S)$ avec l’arc correspondant dans $A$ qui relie ce sommet à la dernière attraction visitée. Le sommet $p_m$ n’est ajouté qu’à la fin, lorsqu’il est le seul sommet non encore visité. Plus formellement, si on note le sommet à ajouter $c$ et le dernier sommet visité $c'$, alors la nouvelle solution partielle obtenue est $V(S) \\gets V(S) \\cup \\{c\\}$ et $A(S) \\gets A(S) \\cup \\{(c’,c)\\}$.\n",
    "\n",
    "Ci-dessous est un exemple de l’arbre étendu depuis sa racine où $c'$ = $p_1$ :\n",
    "\n",
    "<img src=\"images/tree2.png\" alt=\"\" width=\"400\"/>\n",
    "\n",
    "À la fin, les feuilles de l’arbre sont des solutions complètes :\n",
    "\n",
    "<img src=\"images/tree3.png\" alt=\"\" width=\"600\"/>\n",
    "\n",
    "### 1.1 Code\n",
    "La fonction fournie ci-dessous permet d’extraire d’un fichier un graphe qui répond aux spécifications détaillées plus haut. Cette fonction retourne une $\\texttt{ndarray}$ ($\\texttt{graph}$) de taille $|V|\\times |V|$ où $\\texttt{graph[i,j]}$ représente le temps nécessaire pour traverser la piste cyclable de $i$ vers $j$.\n",
    "\n"
   ]
  },
  {
   "cell_type": "code",
   "execution_count": 1,
   "metadata": {},
   "outputs": [],
   "source": [
    "import numpy as np\n",
    "\n",
    "def read_graph():\n",
    "    return np.loadtxt(\"montreal\", dtype='i', delimiter=',')\n",
    "\n",
    "graph = read_graph()"
   ]
  },
  {
   "cell_type": "markdown",
   "metadata": {},
   "source": [
    "Notre première tâche est de définir la classe qui représente une solution partielle. Son constructeur est donné et reçoit comme argument la liste des sommets (attractions $P$) à visiter et le graphe ($G$). Celui-ci crée la solution $S_{\\textrm{root}}$ avec les attributs suivants :\n",
    "- $\\texttt{g}$ : le coût de la solution partielle\n",
    "- $\\texttt{visited}$ : représente $V(S)$, discuté plus haut. Par définition, $\\mathtt{vistited[-1]}$ représente le dernier sommet ajouté, $ c $.\n",
    "- $\\texttt{not}\\_\\texttt{visited}$ : représente $P\\backslash V(S)$\n",
    "- $\\texttt{graph}$: représente le graphe G\n",
    "\n",
    "Ensuite, il est demandé d’implanter la méthode $\\texttt{add}$ qui mets à jour la solution partielle en ajoutant une nouvelle attraction à visiter parmi la liste $\\texttt{not}\\_\\texttt{visited}$. Cette méthode reçoit comme arguments l’index du sommet à visiter parmi $\\texttt{not}\\_\\texttt{visited}$ ainsi que le graphe courant.\n",
    "\n",
    "Implantez $\\texttt{add}$ :"
   ]
  },
  {
   "cell_type": "code",
   "execution_count": 2,
   "metadata": {},
   "outputs": [],
   "source": [
    "import copy\n",
    "\n",
    "class Solution:\n",
    "    def __init__(self, places, graph):\n",
    "        \"\"\"\n",
    "        places: a list containing the indices of attractions to visit\n",
    "        p1 = places[0]\n",
    "        pm = places[-1]\n",
    "        \"\"\"\n",
    "        self.g = 0 # current cost\n",
    "        self.graph = graph\n",
    "        self.visited = [places[0]] # list of already visited attractions\n",
    "        self.not_visited = copy.deepcopy(places[1:]) # list of attractions not yet visited\n",
    "    \n",
    "    def __𝚕𝚝__(self, other):\n",
    "        return other > self.g\n",
    "\n",
    "    def __le__(self,other):\n",
    "        return(self.g<=other)\n",
    "\n",
    "    def __gt__(self,other):\n",
    "        return(self.g>other)\n",
    "\n",
    "    def __ge__(self,other):\n",
    "        return(self.g>=other)\n",
    "\n",
    "    def __eq__(self,other):\n",
    "        return (self.g==other)\n",
    "        \n",
    "    def add(self, idx):\n",
    "        \"\"\"\n",
    "        Adds the point in position idx of not_visited list to the solution\n",
    "        \"\"\"\n",
    "        self.visited.append(idx)\n",
    "        self.not_visited.remove(idx)\n",
    "        self.g += self.graph[self.visited[-2],idx]\n",
    "        \n",
    "    def swap(self, idx_1, idx_2):\n",
    "        if idx_1>idx_2:\n",
    "            idx_1,idx_2=idx_2,idx_1\n",
    "        v = self.visited\n",
    "        place_1 = v[idx_1]\n",
    "        place_2 = v[idx_2]\n",
    "        if abs(idx_1-idx_2)>1:\n",
    "            weight_1 =  self.graph[v[idx_1-1],place_1]\n",
    "            weight_2 =  self.graph[place_1,v[idx_1+1]]\n",
    "            weight_3 =  self.graph[v[idx_2-1],place_2]\n",
    "            weight_4 =  self.graph[place_2,v[idx_2+1]]    \n",
    "            self.g -= (weight_1 + weight_2 + weight_3 + weight_4)\n",
    "            weight_1 =  self.graph[v[idx_1-1],place_2]\n",
    "            weight_2 =  self.graph[place_2,v[idx_1+1]]\n",
    "            weight_3 =  self.graph[v[idx_2-1],place_1]\n",
    "            weight_4 =  self.graph[place_1,v[idx_2+1]]    \n",
    "            self.g += (weight_1 + weight_2 + weight_3 + weight_4)\n",
    "            self.visited[idx_1] = place_2\n",
    "            self.visited[idx_2] = place_1\n",
    "        else:\n",
    "            weight_1 =  self.graph[v[idx_1-1],place_1]\n",
    "            weight_2 =  self.graph[place_1,place_2]\n",
    "            weight_3 =  self.graph[place_2,v[idx_2+1]]\n",
    "            self.g -= (weight_1 + weight_2 + weight_3)\n",
    "            weight_1 =  self.graph[v[idx_1-1],place_2]\n",
    "            weight_2 =  self.graph[place_2,place_1]\n",
    "            weight_3 =  self.graph[place_1,v[idx_2+1]]\n",
    "            self.g += (weight_1 + weight_2 + weight_3)\n",
    "            self.visited[idx_1] = place_2\n",
    "            self.visited[idx_2] = place_1            \n"
   ]
  },
  {
   "cell_type": "markdown",
   "metadata": {},
   "source": [
    "La prochaine étape est d’implanter une stratégie de parcours de l’arbre de recherche. Une première méthode simple est naïve est de mettre en œuvre une recherche en largeur ([Breadth-first search](https://moodle.polymtl.ca/pluginfile.php/444662/mod_resource/content/1/recherche_en_largeur.mp4), BFS).\n",
    "\n",
    "Implantez $\\texttt{bfs}$ qui mets en œuvre cette recherche. Elle prend en arguments le graphe courant ainsi que la liste des attractions à visiter $P$ et elle retourne la meilleure solution trouvée."
   ]
  },
  {
   "cell_type": "code",
   "execution_count": 3,
   "metadata": {},
   "outputs": [],
   "source": [
    "from queue import Queue\n",
    "\n",
    "def bfs(graph, places):\n",
    "    \"\"\"\n",
    "    Returns the best solution which spans over all attractions indicated in 'places'\n",
    "    \"\"\"\n",
    "    n = len(places) - 1\n",
    "    solutions = Queue() # cree une file contenant les solutions visites\n",
    "    sol = Solution(places=places, graph=graph) # cree la solution initale\n",
    "    solutions.put(sol)  # la solution initiale est place dans la file\n",
    "    for i in range(n):  # pour les places restant a visiter\n",
    "        if i != n-1:    # s il reste plus qu une place a visiter\n",
    "            for j in range(solutions.qsize()): # on effectue la recherche pour les successeurs non visites\n",
    "                sol_j = solutions.get()        # j_eme solution\n",
    "                not_visited = sol_j.not_visited[:-1]\n",
    "                for k in not_visited:\n",
    "                    temp = copy.deepcopy(sol_j)\n",
    "                    temp.add(k)\n",
    "                    solutions.put(temp)\n",
    "        else: # s il reste plus une place a visiter\n",
    "            for j in range(solutions.qsize()):\n",
    "                sol_j = solutions.get() # j_eme solution\n",
    "                temp = copy.deepcopy(sol_j)\n",
    "                temp.add(places[-1])\n",
    "                solutions.put(temp)\n",
    "    # on retourne la solution de cout minimale\n",
    "    min_cost = float('Inf')\n",
    "    min_sol = None\n",
    "    for i in range(solutions.qsize()):\n",
    "        sol_i = solutions.get()\n",
    "        if min_cost > sol_i:\n",
    "            min_cost = sol_i.g\n",
    "            min_sol = sol_i\n",
    "    return min_sol\n",
    "    # retourne le nombre de noeuds explores\n",
    "    # total de larbre\n",
    "    \n",
    "    \n",
    "    \n",
    "    "
   ]
  },
  {
   "cell_type": "markdown",
   "metadata": {},
   "source": [
    "### 1.2 Expérimentations\n",
    "\n",
    "On propose trois exemples d’illustration pour tester notre recherche en largeur. Le premier exemple prend en compte 7 attractions, le second 10 et le dernier 11. Vu que cette recherche énumère toutes les solutions possibles, le troisième exemple risque de prendre un temps considérable à s’achever.\n",
    "\n",
    "Mettez en œuvre ces expériences et notez le nombre de nœuds explorés ainsi que le temps de calcul requis."
   ]
  },
  {
   "cell_type": "code",
   "execution_count": 4,
   "metadata": {
    "colab": {},
    "colab_type": "code",
    "id": "H1lFkJPJBcR3"
   },
   "outputs": [
    {
     "name": "stdout",
     "output_type": "stream",
     "text": [
      "27\n",
      "--- 0.0200042724609375 seconds ---\n"
     ]
    }
   ],
   "source": [
    "import time \n",
    "\n",
    "#test 1  --------------  OPT. SOL. = 27\n",
    "start_time = time.time()\n",
    "places=[0, 5, 13, 16, 6, 9, 4]\n",
    "sol = bfs(graph=graph, places=places)\n",
    "print(sol.g)\n",
    "print(\"--- %s seconds ---\" % (time.time() - start_time))"
   ]
  },
  {
   "cell_type": "code",
   "execution_count": 5,
   "metadata": {
    "colab": {},
    "colab_type": "code",
    "id": "Yn9mUPhBB9hv"
   },
   "outputs": [
    {
     "name": "stdout",
     "output_type": "stream",
     "text": [
      "30\n",
      "--- 6.506963491439819 seconds ---\n"
     ]
    }
   ],
   "source": [
    "#test 2 -------------- OPT. SOL. = 30\n",
    "start_time = time.time()\n",
    "places=[0, 1, 4, 9, 20, 18, 16, 5, 13, 19]\n",
    "sol = bfs(graph=graph, places=places)\n",
    "print(sol.g)\n",
    "print(\"--- %s seconds ---\" % (time.time() - start_time))"
   ]
  },
  {
   "cell_type": "code",
   "execution_count": 6,
   "metadata": {},
   "outputs": [
    {
     "name": "stdout",
     "output_type": "stream",
     "text": [
      "26\n",
      "--- 58.52444863319397 seconds ---\n"
     ]
    }
   ],
   "source": [
    "#test 3 -------------- OPT. SOL. = 26\n",
    "start_time = time.time()\n",
    "places=[0, 2, 7, 13, 11, 16, 15, 7, 9, 8, 4]\n",
    "sol = bfs(graph=graph, places=places)\n",
    "print(sol.g)\n",
    "print(\"--- %s seconds ---\" % (time.time() - start_time))"
   ]
  },
  {
   "cell_type": "markdown",
   "metadata": {},
   "source": [
    "## 2. RECHERCHE GUIDÉE À L’AIDE DE L’ALGORITHME A\\* (7.5 points)\n",
    "Pour notre deuxième méthode de recherche, au lieu d’énumérer toutes les solutions possibles, nous effectuons une recherche guidée à l’aide de l’algorithme A\\*. Comme vu en classe, A\\* est une recherche où les nœuds à explorer sont priorisés en fonction du coût courant d’une solution $g(S)$ ainsi que d’une estimation du coût restant vers la solution finale donné par une heuristique $h(S)$.\n",
    "\n",
    "Dans le cas d’une minimisation, $h(S)$ est une borne inférieure du coût réel restant et on priorise l’exploration des nœuds dont $f(S) = g(S)+h(S)$ est le plus petit. Avec cette méthode, la première solution complète trouvée est assurément la solution optimale.\n",
    "\n",
    "Pour une solution donnée $S$ avec un dernier sommet visité $c$, une possible fonction $h$ est telle que :\n",
    "\n",
    "$h(S) =$ Le poids du chemin le plus court entre $c$ et $p_m$ dans le sous graphe $G_S$ contenant les sommets $P\\backslash V(S) \\cup \\{c\\}$\n",
    "\n",
    "Remarque que ce chemin le plus court utilisé dans le calcul de l’estimation $h$ entre l’attraction courante et l’arrivée ne passera pas nécessairement pas tous les sommets restants.\n",
    "\n",
    "\n",
    "Notre algorithme A\\* se présente comme ceci :\n",
    "1. Définir l’arbre de recherche $\\mathcal{T}$ exactement comme auparavant. Le calcul de $h$ pour la solution initiale est inutile : c’est la seule solution qu’on a.\n",
    "2. Sélectionner le meilleur nœud candidat pour expansion. La solution partielle $S_b$ de ce nœud candidat est telle que :\n",
    "\n",
    "   $$ f(S_b) \\leq f(S) \\quad \\forall S \\in \\mathcal{T} \\qquad S_B, S \\text{ pas encore sélectionnés}$$\n",
    "\n",
    "   Si $S_b$ est une solution complète, l’algorithme s’arrête et $S_b$ est assurément la solution optimale, sinon on continue à l’étape 3.\n",
    "3. Créer des solutions subséquentes qui connectent la dernière attraction visitée à chacune des attractions restantes. Attention, on ignore l’arrivée tant que celle-ci n’est pas la seule qui reste.\n",
    " - Mettez à jour les listes des sommets visités et non visités\n",
    " - Calculez $g$ et $h$ pour chaque solution\n",
    " - Insérer la nouvelle solution partielle dans l’arbre.\n",
    "4. Répéter 2 et 3.\n",
    "\n",
    "\n",
    "### 2.1 Code\n",
    "Commençons d’abord par compléter la classe $\\texttt{Solution}$ pour prendre en compte les changements nécessaires à A\\* (on a besoin notamment d’un attribut supplémentaire pour l’estimation $h$).\n",
    "\n",
    "On verra plus tard que A\\* s’implante à l’aide d’une file de priorité (priority queue). Pour que celle-ci marche, il est nécessaire de surcharger (overload) l’opérateur de comparaison « < » relatif à nos objets $\\texttt{Solution}$. En sachant ce qui fait qu'une solution est meilleure qu’une autre pour l'exploration, implanter la méthode $\\_\\_\\texttt{lt}\\_\\_$ dans $\\texttt{Solution}$. Son prototype est $\\_\\_\\texttt{lt}\\_\\_\\texttt{(self, other)}$.\n",
    "\n",
    "Maintenant, nous devons implanter la fonction d’estimation $h$. Pour cela, on utilise l’[algorithme de Dijkstra](https://en.wikipedia.org/wiki/Dijkstra%27s_algorithm) pour trouver le chemin le plus court entre la dernière attraction visitée $c$ et l’arrivée $p_m$. Il est possible d’adapter cet algorithme pour qu’il s’arrête dès que le chemin le plus court entre c et pm est trouvé.\n",
    "\n",
    "**Prescriptions d’implantation :**\n",
    "- Appliquer Dijkstra pour trouver le chemin le plus court entre $c$ et $p_m$\n",
    "- Retourner le poids de ce chemin"
   ]
  },
  {
   "cell_type": "code",
   "execution_count": 7,
   "metadata": {
    "colab": {},
    "colab_type": "code",
    "id": "PxRTHhZmNEOB"
   },
   "outputs": [],
   "source": [
    "class Vertex:\n",
    "    \"\"\"\n",
    "    Une classe servant a representer les noeuds d un graphe\n",
    "    \"\"\"\n",
    "    def __init__(self, place_id, dist=float('Inf'), prev= None):\n",
    "        self.dist = dist # current cost\n",
    "        self.prev = prev # noeud precedent\n",
    "        self.place_id=place_id # numero de la place\n",
    "        self.visited = False\n",
    "        self.order = 0\n",
    "        self.parent = None\n",
    "\n",
    "    def  __𝚕𝚝__(self, other):\n",
    "        return other > self.dist\n",
    "     \n",
    "    def __le__(self,other):\n",
    "        return(self.dist<=other)\n",
    "\n",
    "    def __gt__(self,other):\n",
    "        return(self.dist>other)\n",
    "\n",
    "    def __ge__(self,other):\n",
    "        return(self.dist>=other)\n",
    "\n",
    "    def __eq__(self,other):\n",
    "        return (self.dist==other)\n",
    "    \n",
    "    def __hash__(self):\n",
    "        return hash(str(self.place_id))\n",
    "\n",
    "    def is_visited(self):\n",
    "        return self.visited\n",
    "    \n",
    "    def set_visited(self):\n",
    "        self.visited = True\n",
    "\n",
    "    def set_order(self, n):\n",
    "        self.order = n\n",
    "    \n",
    "def fastest_path_estimation(sol):\n",
    "    \"\"\"\n",
    "    Returns the time spent on the fastest path between \n",
    "    the current vertex c and the ending vertex pm\n",
    "    \"\"\"\n",
    "    c = sol.visited[-1]      # recolte le noeud c\n",
    "    pm = sol.not_visited[-1] # recolte le noeud pm\n",
    "    v_list=list()            # cree un liste\n",
    "    c_vertex =Vertex(c,0)    # cree le noeud c\n",
    "    v_list.append(c_vertex)  # ajoute le noeud c a la liste\n",
    "    graph = sol.graph\n",
    "    for i in sol.not_visited[:-1]: # on ajoute les noeuds non visite a la liste\n",
    "        v_list.append(Vertex(i))\n",
    "    pm_vertex=Vertex(pm)           # on ajoute le noeud pm a la liste\n",
    "    v_list.append(pm_vertex)\n",
    "    \n",
    "    while v_list:                  # tant qu il reste des elements dans la liste\n",
    "        idx=v_list.index(min(v_list)) # on recolte l element de cout minimum\n",
    "        u=v_list.pop(idx)             # on le retire de la liste\n",
    "        \n",
    "        # pour tous les elements de la liste on verifie s il y a un chemin plus\n",
    "        # court a l aide du point u\n",
    "        for v in v_list:\n",
    "            alt=u.dist+graph[u.place_id,v.place_id]\n",
    "           \n",
    "            if alt < v: # si le chemin est plus court, on change son predecesseur et on ajuste le cout\n",
    "                v.dist=alt\n",
    "                v.prev=u\n",
    "\n",
    "    path=[pm_vertex.place_id] # enleve la variable path?\n",
    "    temp=pm_vertex\n",
    "   \n",
    "    while temp.prev != None:\n",
    "        path.append(temp.prev.place_id)\n",
    "        temp= temp.prev\n",
    "    return path[::-1], pm_vertex.dist \n",
    "    \n",
    "    "
   ]
  },
  {
   "cell_type": "markdown",
   "metadata": {
    "colab_type": "text",
    "id": "9pjLMOpju-a9"
   },
   "source": [
    "Finalement, il est temps d’implanter A\\*. On aura besoin d’une file de priorité qui retournera toujours le meilleur nœud candidat de $\\mathcal{T}$ pour l’étendre (l’opérateur surchargé de comparaison assure cela).\n",
    "\n",
    "**Prescriptions d’implantation (cf. détail des étapes de l’algorithme plus haut) :**\n",
    "- Tant que les solutions extraites de la file de priorité ne sont pas complètes :\n",
    "  *\tSélectionner et étendre le nœud extrait de la file comme détaillé plus haut\n",
    "  * Calculer $g$ et $h$ pour chaque nouvelle solution partielle obtenue\n",
    "  * Remettre ces solutions dans la file\n",
    "- Retourner la première solution complète extraite de la file (c’est la solution optimale)"
   ]
  },
  {
   "cell_type": "code",
   "execution_count": 12,
   "metadata": {
    "colab": {},
    "colab_type": "code",
    "id": "D6e45uNMvanU"
   },
   "outputs": [],
   "source": [
    "import heapq\n",
    "\n",
    "def A_star(graph, places):\n",
    "    \"\"\"\n",
    "    Performs the A* algorithm\n",
    "    \"\"\"\n",
    "    \n",
    "    # blank solution\n",
    "    root = Solution(graph=graph, places=places)\n",
    "    \n",
    "        \n",
    "    # search tree T\n",
    "    T = []\n",
    "    heapq.heapify(T)\n",
    "    heapq.heappush(T, (0,root))\n",
    "    # tant que tous noeuds de la solution minimal na pas ete visite\n",
    "    while heapq.nsmallest(1,T)[0][1].not_visited[:-1]:\n",
    "\n",
    "        c_min=heapq.heappop(T)\n",
    "        sol_min = c_min[1]\n",
    "\n",
    "        # on recolte g\n",
    "        c_g = sol_min.g\n",
    "        # pour tous les voisins non visite\n",
    "        for i in sol_min.not_visited[:-1]:\n",
    "            # on cree une nouvelle solution possible avec ce voisin\n",
    "            temp_sol = copy.deepcopy(sol_min)\n",
    "            temp_sol.add(i)\n",
    "            # on calcule le cout h\n",
    "            f = temp_sol.g + fastest_path_estimation(temp_sol)[1]\n",
    "            # on ajoute cette solution a l arbre\n",
    "            heapq.heappush(T, (f, temp_sol))\n",
    "    # on retourne la solution minimale\n",
    "    last = heapq.nsmallest(1,T)[0][1]\n",
    "    last.add(last.not_visited[-1])\n",
    "    return last\n",
    "        "
   ]
  },
  {
   "cell_type": "markdown",
   "metadata": {
    "colab_type": "text",
    "id": "T2NhBa4GsoAP"
   },
   "source": [
    "### 2.2 Expérimentations\n",
    "\n",
    "On ajoute un Quatrième exemple d’exécution avec 15 attractions. Là encore, mettez en œuvre ces expériences avec le nouvel algorithme A\\* conçu et notez le nombre de nœuds explorés ainsi que le temps de calcul requis."
   ]
  },
  {
   "cell_type": "code",
   "execution_count": 13,
   "metadata": {
    "colab": {},
    "colab_type": "code",
    "id": "H1lFkJPJBcR3"
   },
   "outputs": [
    {
     "name": "stdout",
     "output_type": "stream",
     "text": [
      "27\n",
      "[0, 5, 13, 16, 6, 9, 4]\n",
      "--- 0.017003536224365234 seconds ---\n"
     ]
    }
   ],
   "source": [
    "#test 1  --------------  OPT. SOL. = 27\n",
    "start_time = time.time()\n",
    "places=[0, 5, 13, 16, 6, 9, 4]\n",
    "astar_sol = A_star(graph=graph, places=places)\n",
    "print(astar_sol.g)\n",
    "print(astar_sol.visited)\n",
    "print(\"--- %s seconds ---\" % (time.time() - start_time))"
   ]
  },
  {
   "cell_type": "code",
   "execution_count": 14,
   "metadata": {
    "colab": {},
    "colab_type": "code",
    "id": "Yn9mUPhBB9hv"
   },
   "outputs": [
    {
     "name": "stdout",
     "output_type": "stream",
     "text": [
      "30\n",
      "[0, 1, 4, 5, 9, 13, 16, 18, 20, 19]\n",
      "--- 0.415783166885376 seconds ---\n"
     ]
    }
   ],
   "source": [
    "#test 2  --------------  OPT. SOL. = 30\n",
    "start_time = time.time()\n",
    "places=[0, 1, 4, 9, 20, 18, 16, 5, 13, 19]\n",
    "astar_sol = A_star(graph=graph, places=places)\n",
    "print(astar_sol.g)\n",
    "print(astar_sol.visited)\n",
    "print(\"--- %s seconds ---\" % (time.time() - start_time))"
   ]
  },
  {
   "cell_type": "code",
   "execution_count": 15,
   "metadata": {
    "colab": {},
    "colab_type": "code",
    "id": "ZX5SD5CRBfKg"
   },
   "outputs": [
    {
     "name": "stdout",
     "output_type": "stream",
     "text": [
      "26\n",
      "[0, 2, 7, 7, 9, 13, 15, 16, 11, 8, 4]\n",
      "--- 1.7305529117584229 seconds ---\n"
     ]
    }
   ],
   "source": [
    "#test 3  --------------  OPT. SOL. = 26\n",
    "start_time = time.time()\n",
    "places=[0, 2, 7, 13, 11, 16, 15, 7, 9, 8, 4]\n",
    "astar_sol = A_star(graph=graph, places=places)\n",
    "print(astar_sol.g)\n",
    "print(astar_sol.visited)\n",
    "print(\"--- %s seconds ---\" % (time.time() - start_time))"
   ]
  },
  {
   "cell_type": "code",
   "execution_count": 16,
   "metadata": {},
   "outputs": [
    {
     "ename": "KeyboardInterrupt",
     "evalue": "",
     "output_type": "error",
     "traceback": [
      "\u001b[1;31m---------------------------------------------------------------------------\u001b[0m",
      "\u001b[1;31mKeyboardInterrupt\u001b[0m                         Traceback (most recent call last)",
      "\u001b[1;32m<ipython-input-16-ab7a4d877a9c>\u001b[0m in \u001b[0;36m<module>\u001b[1;34m()\u001b[0m\n\u001b[0;32m      2\u001b[0m \u001b[0mstart_time\u001b[0m \u001b[1;33m=\u001b[0m \u001b[0mtime\u001b[0m\u001b[1;33m.\u001b[0m\u001b[0mtime\u001b[0m\u001b[1;33m(\u001b[0m\u001b[1;33m)\u001b[0m\u001b[1;33m\u001b[0m\u001b[0m\n\u001b[0;32m      3\u001b[0m \u001b[0mplaces\u001b[0m\u001b[1;33m=\u001b[0m\u001b[1;33m[\u001b[0m\u001b[1;36m0\u001b[0m\u001b[1;33m,\u001b[0m \u001b[1;36m2\u001b[0m\u001b[1;33m,\u001b[0m \u001b[1;36m20\u001b[0m\u001b[1;33m,\u001b[0m \u001b[1;36m3\u001b[0m\u001b[1;33m,\u001b[0m \u001b[1;36m18\u001b[0m\u001b[1;33m,\u001b[0m \u001b[1;36m12\u001b[0m\u001b[1;33m,\u001b[0m \u001b[1;36m13\u001b[0m\u001b[1;33m,\u001b[0m \u001b[1;36m5\u001b[0m\u001b[1;33m,\u001b[0m \u001b[1;36m11\u001b[0m\u001b[1;33m,\u001b[0m \u001b[1;36m16\u001b[0m\u001b[1;33m,\u001b[0m \u001b[1;36m15\u001b[0m\u001b[1;33m,\u001b[0m \u001b[1;36m4\u001b[0m\u001b[1;33m,\u001b[0m \u001b[1;36m9\u001b[0m\u001b[1;33m,\u001b[0m \u001b[1;36m14\u001b[0m\u001b[1;33m,\u001b[0m \u001b[1;36m1\u001b[0m\u001b[1;33m]\u001b[0m\u001b[1;33m\u001b[0m\u001b[0m\n\u001b[1;32m----> 4\u001b[1;33m \u001b[0mastar_sol\u001b[0m \u001b[1;33m=\u001b[0m \u001b[0mA_star\u001b[0m\u001b[1;33m(\u001b[0m\u001b[0mgraph\u001b[0m\u001b[1;33m=\u001b[0m\u001b[0mgraph\u001b[0m\u001b[1;33m,\u001b[0m \u001b[0mplaces\u001b[0m\u001b[1;33m=\u001b[0m\u001b[0mplaces\u001b[0m\u001b[1;33m)\u001b[0m\u001b[1;33m\u001b[0m\u001b[0m\n\u001b[0m\u001b[0;32m      5\u001b[0m \u001b[0mprint\u001b[0m\u001b[1;33m(\u001b[0m\u001b[0mastar_sol\u001b[0m\u001b[1;33m.\u001b[0m\u001b[0mg\u001b[0m\u001b[1;33m)\u001b[0m\u001b[1;33m\u001b[0m\u001b[0m\n\u001b[0;32m      6\u001b[0m \u001b[0mprint\u001b[0m\u001b[1;33m(\u001b[0m\u001b[0mastar_sol\u001b[0m\u001b[1;33m.\u001b[0m\u001b[0mvisited\u001b[0m\u001b[1;33m)\u001b[0m\u001b[1;33m\u001b[0m\u001b[0m\n",
      "\u001b[1;32m<ipython-input-12-7bd631cd3e31>\u001b[0m in \u001b[0;36mA_star\u001b[1;34m(graph, places)\u001b[0m\n\u001b[0;32m     28\u001b[0m             \u001b[0mtemp_sol\u001b[0m\u001b[1;33m.\u001b[0m\u001b[0madd\u001b[0m\u001b[1;33m(\u001b[0m\u001b[0mi\u001b[0m\u001b[1;33m)\u001b[0m\u001b[1;33m\u001b[0m\u001b[0m\n\u001b[0;32m     29\u001b[0m             \u001b[1;31m# on calcule le cout h\u001b[0m\u001b[1;33m\u001b[0m\u001b[1;33m\u001b[0m\u001b[0m\n\u001b[1;32m---> 30\u001b[1;33m             \u001b[0mf\u001b[0m \u001b[1;33m=\u001b[0m \u001b[0mtemp_sol\u001b[0m\u001b[1;33m.\u001b[0m\u001b[0mg\u001b[0m \u001b[1;33m+\u001b[0m \u001b[0mfastest_path_estimation\u001b[0m\u001b[1;33m(\u001b[0m\u001b[0mtemp_sol\u001b[0m\u001b[1;33m)\u001b[0m\u001b[1;33m[\u001b[0m\u001b[1;36m1\u001b[0m\u001b[1;33m]\u001b[0m\u001b[1;33m\u001b[0m\u001b[0m\n\u001b[0m\u001b[0;32m     31\u001b[0m             \u001b[1;31m# on ajoute cette solution a l arbre\u001b[0m\u001b[1;33m\u001b[0m\u001b[1;33m\u001b[0m\u001b[0m\n\u001b[0;32m     32\u001b[0m             \u001b[0mheapq\u001b[0m\u001b[1;33m.\u001b[0m\u001b[0mheappush\u001b[0m\u001b[1;33m(\u001b[0m\u001b[0mT\u001b[0m\u001b[1;33m,\u001b[0m \u001b[1;33m(\u001b[0m\u001b[0mf\u001b[0m\u001b[1;33m,\u001b[0m \u001b[0mtemp_sol\u001b[0m\u001b[1;33m)\u001b[0m\u001b[1;33m)\u001b[0m\u001b[1;33m\u001b[0m\u001b[0m\n",
      "\u001b[1;32m<ipython-input-7-883edfab037f>\u001b[0m in \u001b[0;36mfastest_path_estimation\u001b[1;34m(sol)\u001b[0m\n\u001b[0;32m     55\u001b[0m \u001b[1;33m\u001b[0m\u001b[0m\n\u001b[0;32m     56\u001b[0m     \u001b[1;32mwhile\u001b[0m \u001b[0mv_list\u001b[0m\u001b[1;33m:\u001b[0m                  \u001b[1;31m# tant qu il reste des elements dans la liste\u001b[0m\u001b[1;33m\u001b[0m\u001b[0m\n\u001b[1;32m---> 57\u001b[1;33m         \u001b[0midx\u001b[0m\u001b[1;33m=\u001b[0m\u001b[0mv_list\u001b[0m\u001b[1;33m.\u001b[0m\u001b[0mindex\u001b[0m\u001b[1;33m(\u001b[0m\u001b[0mmin\u001b[0m\u001b[1;33m(\u001b[0m\u001b[0mv_list\u001b[0m\u001b[1;33m)\u001b[0m\u001b[1;33m)\u001b[0m \u001b[1;31m# on recolte l element de cout minimum\u001b[0m\u001b[1;33m\u001b[0m\u001b[0m\n\u001b[0m\u001b[0;32m     58\u001b[0m         \u001b[0mu\u001b[0m\u001b[1;33m=\u001b[0m\u001b[0mv_list\u001b[0m\u001b[1;33m.\u001b[0m\u001b[0mpop\u001b[0m\u001b[1;33m(\u001b[0m\u001b[0midx\u001b[0m\u001b[1;33m)\u001b[0m             \u001b[1;31m# on le retire de la liste\u001b[0m\u001b[1;33m\u001b[0m\u001b[0m\n\u001b[0;32m     59\u001b[0m \u001b[1;33m\u001b[0m\u001b[0m\n",
      "\u001b[1;32m<ipython-input-7-883edfab037f>\u001b[0m in \u001b[0;36m__eq__\u001b[1;34m(self, other)\u001b[0m\n\u001b[0;32m     24\u001b[0m \u001b[1;33m\u001b[0m\u001b[0m\n\u001b[0;32m     25\u001b[0m     \u001b[1;32mdef\u001b[0m \u001b[0m__eq__\u001b[0m\u001b[1;33m(\u001b[0m\u001b[0mself\u001b[0m\u001b[1;33m,\u001b[0m\u001b[0mother\u001b[0m\u001b[1;33m)\u001b[0m\u001b[1;33m:\u001b[0m\u001b[1;33m\u001b[0m\u001b[0m\n\u001b[1;32m---> 26\u001b[1;33m         \u001b[1;32mreturn\u001b[0m \u001b[1;33m(\u001b[0m\u001b[0mself\u001b[0m\u001b[1;33m.\u001b[0m\u001b[0mdist\u001b[0m\u001b[1;33m==\u001b[0m\u001b[0mother\u001b[0m\u001b[1;33m)\u001b[0m\u001b[1;33m\u001b[0m\u001b[0m\n\u001b[0m\u001b[0;32m     27\u001b[0m \u001b[1;33m\u001b[0m\u001b[0m\n\u001b[0;32m     28\u001b[0m     \u001b[1;32mdef\u001b[0m \u001b[0m__hash__\u001b[0m\u001b[1;33m(\u001b[0m\u001b[0mself\u001b[0m\u001b[1;33m)\u001b[0m\u001b[1;33m:\u001b[0m\u001b[1;33m\u001b[0m\u001b[0m\n",
      "\u001b[1;31mKeyboardInterrupt\u001b[0m: "
     ]
    }
   ],
   "source": [
    "#test 4  --------------  OPT. SOL. = 40\n",
    "start_time = time.time()\n",
    "places=[0, 2, 20, 3, 18, 12, 13, 5, 11, 16, 15, 4, 9, 14, 1]\n",
    "astar_sol = A_star(graph=graph, places=places)\n",
    "print(astar_sol.g)\n",
    "print(astar_sol.visited)\n",
    "print(\"--- %s seconds ---\" % (time.time() - start_time))"
   ]
  },
  {
   "cell_type": "markdown",
   "metadata": {},
   "source": [
    "### 2.3 Une meilleure borne inférieure\n",
    "\n",
    "Notre algorithme A\\* est déjà beaucoup plus efficace qu’une recherche naïve. Cependant, la qualité de l’heuristique $h$ a un très grand impact sur la vitesse de A\\*. Une heuristique plus serrée devrait accélérer A\\* de façon significative. Notre estimation $h$ basée sur Dijkstra est très large à cause du fait qu’elle ne considère pas toutes les attractions restantes.\n",
    "\n",
    "Une meilleure heuristique pourrait être basée sur la **Spanning Arborescence of Minimum Weight** qui s’apparente à une Minimum Spanning Tree pour graphes orientés. On propose de construire une telle Spanning Arborescence sur le reste des attractions $P\\backslash V(S) \\cup \\{c\\}$. Ici la racine est la dernière attraction visitée $c$. Une façon classique de résoudre ce problème est d’utiliser l’[algorithme de Edmonds](https://en.wikipedia.org/wiki/Edmonds%27_algorithm).\n",
    "\n",
    "Implantez cet algorithme et refaites les expériences avec A\\* en utilisant cette nouvelle heuristique :"
   ]
  },
  {
   "cell_type": "code",
   "execution_count": 145,
   "metadata": {},
   "outputs": [],
   "source": [
    "class Edge:\n",
    "    \"\"\"\n",
    "    Une classe servant a representer les arretes d un graphe\n",
    "    \"\"\"\n",
    "    def __init__(self, start, end, weight):\n",
    "        self.start = start # current cost\n",
    "        self.end = end # noeud precedent\n",
    "        self.weight=weight # numero de la place\n",
    "\n",
    "    def  __𝚕𝚝__(self, other):\n",
    "        return other > self.weight\n",
    "     \n",
    "    def __le__(self,other):\n",
    "        return(self.weight<=other)\n",
    "\n",
    "    def __gt__(self,other):\n",
    "        return(self.weight>other)\n",
    "\n",
    "    def __ge__(self,other):\n",
    "        return(self.weight>=other)\n",
    "\n",
    "    def __eq__(self,other):\n",
    "        return (self.weight==other)\n",
    "\n",
    "class Vertex_id:\n",
    "    \"\"\"\n",
    "    Une classe servant a representer les noeuds d un graphe\n",
    "    \"\"\"\n",
    "    def __init__(self, place_id, dist=float('Inf')):\n",
    "        self.dist = dist # current cost\n",
    "        self.place_id=place_id # numero de la place\n",
    "        self.visited = False\n",
    "        self.order = 0\n",
    "        self.parent = None\n",
    "\n",
    "    def  __𝚕𝚝__(self, other):\n",
    "        return other > self.place_id\n",
    "     \n",
    "    def __le__(self,other):\n",
    "        return(self.place_id<=other)\n",
    "\n",
    "    def __gt__(self,other):\n",
    "        return(self.place_id>other)\n",
    "\n",
    "    def __ge__(self,other):\n",
    "        return(self.place_id>=other)\n",
    "\n",
    "    def __eq__(self,other):\n",
    "        return (self.place_id==other)\n",
    "    \n",
    "    def __hash__(self):\n",
    "        return hash(str(self.place_id))\n",
    "    \n",
    "    def __len__(self):\n",
    "        return 1\n",
    "\n",
    "    def __getitem__(self, i):\n",
    "        return self\n",
    "    \n",
    "    def is_visited(self):\n",
    "        return self.visited\n",
    "    \n",
    "    def set_visited(self):\n",
    "        self.visited = True\n",
    "\n",
    "    def set_order(self, n):\n",
    "        self.order = n\n",
    "       \n",
    "    \n",
    "class Graph():\n",
    "    def __init__(self, vertices, edges=[]):\n",
    "        self.v = vertices\n",
    "        self.edges = edges\n",
    "        self.graph = {}\n",
    "        self.count = 1\n",
    "        for i in vertices:\n",
    "            self.graph[i] = []\n",
    "        for i in edges:\n",
    "            self.graph[i.start].append(i.end)\n",
    "        \n",
    "    def get_vertives(self):\n",
    "        return self.v\n",
    "    \n",
    "    def get_neighbors(self, node):\n",
    "        return self.graph[node]\n",
    "\n",
    "def arborescence_contraction(v_list, graph, cycle_list=[]):\n",
    "    edge_list = list()\n",
    "    min_cycle_src = None\n",
    "    min_cycle_dst = None\n",
    "    min_w_cycle = float('Inf')\n",
    "    test = False\n",
    "    for j in v_list[1:]: # destination\n",
    "        min_v = None\n",
    "        min_w = float('Inf')\n",
    "        for i in v_list: # source\n",
    "            if i.place_id != j.place_id:\n",
    "                if j not in cycle_list:\n",
    "                    temp_w = graph[i.place_id, j.place_id]\n",
    "                    if temp_w < min_w:\n",
    "                        min_w = temp_w\n",
    "                        min_v = i\n",
    "                else:\n",
    "                    if i not in cycle_list:\n",
    "                        temp_w = graph[i.place_id, j.place_id]\n",
    "                        if temp_w<min_w_cycle:\n",
    "                            min_w_cycle = temp_w\n",
    "                            min_cycle_src = i\n",
    "                            min_cycle_dst = j\n",
    "        if min_v is not None:\n",
    "            print(min_v.place_id, j.place_id, min_w)\n",
    "            edge_list.append(Edge(min_v,j,min_w))\n",
    "            j.parent = min_v\n",
    "    if min_cycle_src != None and min_cycle_dst != None:\n",
    "        print(min_cycle_src.place_id, min_cycle_dst.place_id, min_w_cycle)\n",
    "        # j.parent = min_v    \n",
    "    return edge_list\n",
    "\n",
    "\n",
    "def arborescence_contraction_1(v_list, graph):\n",
    "    edge_list = list()\n",
    "    min_cycle_src = None\n",
    "    min_cycle_dst = None\n",
    "    min_w_cycle = float('Inf')\n",
    "    test = False\n",
    "    for j in v_list[1:]: # destination\n",
    "        min_v_dst = None\n",
    "        min_v_src = None\n",
    "        min_v_i = None\n",
    "        min_w = float('Inf')\n",
    "        for vertices_dst in j.place_id: # differente destination du noeud\n",
    "            for i in v_list: # source\n",
    "                for vertices_src in i.place_id: # differente source du noeud\n",
    "                    if i != j:\n",
    "                        if vertices_src != vertices_dst:\n",
    "                            temp_w = graph[vertices_src, vertices_dst]\n",
    "                            if temp_w < min_w:\n",
    "                                min_w = temp_w\n",
    "                                min_v_src = vertices_src\n",
    "                                min_v_dst = vertices_dst\n",
    "                                min_v_i = i\n",
    "\n",
    "        if min_v_src is not None:\n",
    "            print(min_v_src, min_v_dst, min_w)\n",
    "            edge_list.append(Edge(min_v_src,min_v_dst,min_w))\n",
    "            j.parent = min_v_i\n",
    "            j.dist = min_w\n",
    "    #if min_cycle_src != None and min_cycle_dst != None:\n",
    "        #print(min_cycle_src.place_id, min_cycle_dst.place_id, min_w_cycle)\n",
    "        # j.parent = min_v    \n",
    "    return edge_list\n",
    "\n",
    "def find_cycle(v_list):\n",
    "    cycle_list = []\n",
    "    v_list_len = len(v_list)\n",
    "    cycle_id = []\n",
    "    cycle_list = []\n",
    "    test = True\n",
    "    for i in v_list[1:]: # on recherche les cycles\n",
    "        leaf = i\n",
    "        parent = leaf.parent\n",
    "        cycle = True\n",
    "        for j in range(v_list_len):\n",
    "            if parent == None:\n",
    "                cycle = False\n",
    "                break\n",
    "            print(leaf)\n",
    "            leaf = parent\n",
    "            parent = leaf.parent\n",
    "        if cycle:\n",
    "            # trouver le cycle en faisant une iteration\n",
    "            cycle_path = list()\n",
    "            cycle_id = list()\n",
    "            begin = leaf\n",
    "            cycle_path.append(begin)\n",
    "            leaf = leaf.parent\n",
    "            parent = leaf.parent\n",
    "            while begin.place_id != leaf.place_id:\n",
    "                cycle_path.append(leaf)\n",
    "                leaf = parent\n",
    "                parent = leaf.parent\n",
    "            for j in cycle_path:\n",
    "                cycle_id.append(j.place_id)\n",
    "            test = True\n",
    "            for j in cycle_list:\n",
    "                for k in j:\n",
    "                    if k in cycle_path:\n",
    "                        test = False\n",
    "                        break\n",
    "            if test:\n",
    "                cycle_list.append(cycle_path)\n",
    "    return cycle_list\n",
    "\n",
    "def find_cycle_1(v_list):\n",
    "    cycle_list = []\n",
    "    v_list_len = len(v_list)\n",
    "    cycle_id = []\n",
    "    cycle_list = []\n",
    "    test = True\n",
    "    for i in v_list[1:]: # on recherche les cycles\n",
    "        leaf = i\n",
    "        parent = leaf.parent\n",
    "        cycle = True\n",
    "        for j in range(v_list_len):\n",
    "            if parent == None:\n",
    "                cycle = False\n",
    "                break\n",
    "            leaf = parent\n",
    "            parent = leaf.parent\n",
    "        if cycle:\n",
    "            # trouver le cycle en faisant une iteration\n",
    "            cycle_path = list()\n",
    "            cycle_id = list()\n",
    "            begin = leaf\n",
    "            cycle_path.append(begin)\n",
    "            leaf = leaf.parent\n",
    "            parent = leaf.parent\n",
    "            while begin.place_id != leaf.place_id:\n",
    "                cycle_path.append(leaf)\n",
    "                leaf = parent\n",
    "                parent = leaf.parent\n",
    "            for j in cycle_path:\n",
    "                cycle_id.append(j.place_id)\n",
    "            test = True\n",
    "            for j in cycle_list:\n",
    "                for k in j:\n",
    "                    if k in cycle_path:\n",
    "                        test = False\n",
    "                        break\n",
    "            if test:\n",
    "                cycle_list.append(cycle_path)\n",
    "    return cycle_list\n",
    "\n",
    "def array_to_dict(places, graph):\n",
    "    dict_init = {}\n",
    "    for i in places:\n",
    "        dict_init[i] = {}\n",
    "        for j in places:\n",
    "            dict_init[i][j] = graph[i][j]\n",
    "    return dict_init\n",
    "\n",
    "def minimum_spanning_arborescence(sol):\n",
    "    \"\"\"\n",
    "    Returns the cost to reach the vertices in the unvisited list \n",
    "    \"\"\"\n",
    "    places = []\n",
    "    c = sol.visited[-1]# recolte le noeud c\n",
    "    places.append(c)\n",
    "    pm = sol.not_visited[-1] # recolte le noeud pm\n",
    "    v_list=list()            # cree un liste\n",
    "    c_vertex =Vertex_id([c])    # cree le noeud c\n",
    "    v_list.append(c_vertex)  # ajoute le noeud c a la liste\n",
    "    for i in sol.not_visited[:-1]: # on ajoute les noeuds non visite a la liste\n",
    "        places.append(i)\n",
    "        v_list.append(Vertex_id([i]))\n",
    "    pm_vertex=Vertex_id([pm])           # on ajoute le noeud pm a la liste\n",
    "    places.append(pm)\n",
    "    dicti_g = array_to_dict(places, sol.graph)\n",
    "    print(dicti_g)\n",
    "    v_list.append(pm_vertex)\n",
    "    v_init = copy.deepcopy(v_list)\n",
    "    v_list_list = []\n",
    "    v_list_list.append(v_init)\n",
    "    e_list_list = []\n",
    "    new_g_list = []\n",
    "    cycle_list_list = []\n",
    "    len_cycle = 1\n",
    "    while len_cycle != 0:\n",
    "        ## cree un nouveau graph de la classe graph\n",
    "        print('\\nedge_list')\n",
    "        edge_list = arborescence_contraction_1(v_list, sol.graph)\n",
    "        e_list_list.append(copy.deepcopy(edge_list))\n",
    "        print('\\nv_list')\n",
    "        print(v_list)\n",
    "        cycle_list = find_cycle_1(v_list)\n",
    "        cycle_list_list.append(copy.deepcopy(cycle_list))\n",
    "        print('\\ncycle_list')\n",
    "        print(cycle_list)\n",
    "        \n",
    "        new_g = copy.deepcopy(sol.graph)\n",
    "        for v in v_list:\n",
    "            for cycle in cycle_list:\n",
    "                for node in cycle:\n",
    "                    for src_id in v.place_id:\n",
    "                        for dst_id in node.place_id:\n",
    "                            new_g[src_id,dst_id] -= node.dist\n",
    "        sol.graph = new_g\n",
    "        len_cycle = len(cycle_list)\n",
    "\n",
    "        if len_cycle==0:\n",
    "            break\n",
    "        v_temp = copy.deepcopy(v_init[1:])        \n",
    "        v_list = []\n",
    "        v_list.append(Vertex_id([0]))\n",
    "        for cycle in cycle_list:\n",
    "            temp_list = []\n",
    "            for node in cycle:\n",
    "                for node_id in node.place_id:\n",
    "                    temp_list.append(node_id)\n",
    "                    v_temp.remove(Vertex_id([node_id]))\n",
    "\n",
    "            v_list.append(Vertex_id(temp_list))\n",
    "        for node in v_temp:\n",
    "            v_list.append(Vertex_id(node.place_id))\n",
    "        v_list_list.append(v_list)\n",
    "        print('\\nv_list')\n",
    "        print(v_list)\n",
    "        # update des poids de g\n",
    "    print('\\n\\n\\nDECONTRACTION')\n",
    "    final_edge_list = []\n",
    "    final_node_list = []\n",
    "    for i in range(len(v_list_list)):\n",
    "        v_list = v_list_list.pop()\n",
    "        e_list = e_list_list.pop()\n",
    "        print(v_list)\n",
    "        print(e_list)\n",
    "        for e in e_list:\n",
    "            if e.end not in final_node_list:\n",
    "\n",
    "    print(final_node_list)\n",
    "    print(final_edge_list)\n",
    "            \n",
    "\n",
    "    return v_list, edge_list\n",
    "\n",
    "    "
   ]
  },
  {
   "cell_type": "code",
   "execution_count": 146,
   "metadata": {},
   "outputs": [
    {
     "ename": "NameError",
     "evalue": "name 'v_list' is not defined",
     "output_type": "error",
     "traceback": [
      "\u001b[1;31m---------------------------------------------------------------------------\u001b[0m",
      "\u001b[1;31mNameError\u001b[0m                                 Traceback (most recent call last)",
      "\u001b[1;32m<ipython-input-146-f754ef61422b>\u001b[0m in \u001b[0;36m<module>\u001b[1;34m()\u001b[0m\n\u001b[0;32m      1\u001b[0m \u001b[1;33m\u001b[0m\u001b[0m\n\u001b[1;32m----> 2\u001b[1;33m \u001b[0mprint\u001b[0m\u001b[1;33m(\u001b[0m\u001b[0mv_list\u001b[0m\u001b[1;33m)\u001b[0m\u001b[1;33m\u001b[0m\u001b[0m\n\u001b[0m\u001b[0;32m      3\u001b[0m \u001b[0medge_list\u001b[0m \u001b[1;33m=\u001b[0m \u001b[0marborescence_contraction_1\u001b[0m\u001b[1;33m(\u001b[0m\u001b[0mv_list\u001b[0m\u001b[1;33m,\u001b[0m \u001b[0mnew_g\u001b[0m\u001b[1;33m)\u001b[0m\u001b[1;33m\u001b[0m\u001b[0m\n\u001b[0;32m      4\u001b[0m \u001b[0mprint\u001b[0m\u001b[1;33m(\u001b[0m\u001b[0medge_list\u001b[0m\u001b[1;33m)\u001b[0m\u001b[1;33m\u001b[0m\u001b[0m\n\u001b[0;32m      5\u001b[0m \u001b[1;32mfor\u001b[0m \u001b[0mv\u001b[0m \u001b[1;32min\u001b[0m \u001b[0mv_list\u001b[0m\u001b[1;33m:\u001b[0m\u001b[1;33m\u001b[0m\u001b[0m\n",
      "\u001b[1;31mNameError\u001b[0m: name 'v_list' is not defined"
     ]
    }
   ],
   "source": [
    "    \n",
    "    print(v_list)\n",
    "    edge_list = arborescence_contraction_1(v_list, new_g)\n",
    "    print(edge_list)\n",
    "    for v in v_list:\n",
    "        print(v.place_id)\n",
    "\n",
    "    cycle_list = find_cycle_1(v_list)\n",
    "    print('cycle_list')\n",
    "    print(cycle_list)\n",
    "    v_list = []\n",
    "    v_list.append(Vertex_id([0]))\n",
    "    for cycle in cycle_list:\n",
    "        temp_list = []\n",
    "        for node in cycle:\n",
    "            for node_id in node.place_id:\n",
    "                temp_list.append(node_id)\n",
    "        v_list.append(Vertex_id(temp_list))\n",
    "    print('v_list')\n",
    "    print(v_list)\n",
    "    edge_list = arborescence_contraction_1(v_list, new_g)\n",
    "    cycle_list = find_cycle_1(v_list)\n",
    "    print(len(cycle_list))"
   ]
  },
  {
   "cell_type": "code",
   "execution_count": 147,
   "metadata": {
    "scrolled": false
   },
   "outputs": [
    {
     "name": "stdout",
     "output_type": "stream",
     "text": [
      "{0: {0: 0, 13: 21, 12: 20, 11: 22, 14: 21, 2: 8, 3: 12}, 13: {0: 20, 13: 0, 12: 2, 11: 2, 14: 1, 2: 15, 3: 5}, 12: {0: 19, 13: 1, 12: 0, 11: 2, 14: 1, 2: 11, 3: 6}, 11: {0: 21, 13: 1, 12: 1, 11: 0, 14: 2, 2: 12, 3: 7}, 14: {0: 22, 13: 2, 12: 1, 11: 1, 14: 0, 2: 10, 3: 8}, 2: {0: 8, 13: 14, 12: 11, 11: 12, 14: 11, 2: 0, 3: 2}, 3: {0: 10, 13: 7, 12: 7, 11: 8, 14: 10, 2: 2, 3: 0}}\n",
      "\n",
      "edge_list\n",
      "12 13 1\n",
      "11 12 1\n",
      "14 11 1\n",
      "13 14 1\n",
      "3 2 2\n",
      "2 3 2\n",
      "\n",
      "v_list\n",
      "[<__main__.Vertex_id object at 0x00000235F2F72748>, <__main__.Vertex_id object at 0x00000235F2F8CBA8>, <__main__.Vertex_id object at 0x00000235F2F8CA58>, <__main__.Vertex_id object at 0x00000235F2F8C208>, <__main__.Vertex_id object at 0x00000235F2F8CEF0>, <__main__.Vertex_id object at 0x00000235F2F8CF98>, <__main__.Vertex_id object at 0x00000235F2F8CC88>]\n",
      "\n",
      "cycle_list\n",
      "[[<__main__.Vertex_id object at 0x00000235F2F8CEF0>, <__main__.Vertex_id object at 0x00000235F2F8CBA8>, <__main__.Vertex_id object at 0x00000235F2F8CA58>, <__main__.Vertex_id object at 0x00000235F2F8C208>], [<__main__.Vertex_id object at 0x00000235F2F8CC88>, <__main__.Vertex_id object at 0x00000235F2F8CF98>]]\n",
      "\n",
      "v_list\n",
      "[<__main__.Vertex_id object at 0x00000235F2F8CF60>, <__main__.Vertex_id object at 0x00000235F2FFE2E8>, <__main__.Vertex_id object at 0x00000235F2FFE208>]\n",
      "\n",
      "edge_list\n",
      "3 13 6\n",
      "13 3 3\n",
      "\n",
      "v_list\n",
      "[<__main__.Vertex_id object at 0x00000235F2F8CF60>, <__main__.Vertex_id object at 0x00000235F2FFE2E8>, <__main__.Vertex_id object at 0x00000235F2FFE208>]\n",
      "\n",
      "cycle_list\n",
      "[[<__main__.Vertex_id object at 0x00000235F2FFE208>, <__main__.Vertex_id object at 0x00000235F2FFE2E8>]]\n",
      "\n",
      "v_list\n",
      "[<__main__.Vertex_id object at 0x00000235F2F4AF28>, <__main__.Vertex_id object at 0x00000235F2F8CEF0>]\n",
      "\n",
      "edge_list\n",
      "0 2 3\n",
      "\n",
      "v_list\n",
      "[<__main__.Vertex_id object at 0x00000235F2F4AF28>, <__main__.Vertex_id object at 0x00000235F2F8CEF0>]\n",
      "\n",
      "cycle_list\n",
      "[]\n",
      "\n",
      "\n",
      "\n",
      "DECONTRACTION\n",
      "[<__main__.Vertex_id object at 0x00000235F2F4AF28>, <__main__.Vertex_id object at 0x00000235F2F8CEF0>]\n",
      "[<__main__.Edge object at 0x00000235F2FFE3C8>]\n",
      "[<__main__.Vertex_id object at 0x00000235F2F8CF60>, <__main__.Vertex_id object at 0x00000235F2FFE2E8>, <__main__.Vertex_id object at 0x00000235F2FFE208>]\n",
      "[<__main__.Edge object at 0x00000235F2F4A9B0>, <__main__.Edge object at 0x00000235F2F4A048>]\n",
      "[<__main__.Vertex_id object at 0x00000235F2F8CAC8>, <__main__.Vertex_id object at 0x00000235F2F8CFD0>, <__main__.Vertex_id object at 0x00000235F2F8CE48>, <__main__.Vertex_id object at 0x00000235F2F8CE80>, <__main__.Vertex_id object at 0x00000235F2F8CE10>, <__main__.Vertex_id object at 0x00000235F2F8C6A0>, <__main__.Vertex_id object at 0x00000235F2F4AA58>]\n",
      "[<__main__.Edge object at 0x00000235F2F65710>, <__main__.Edge object at 0x00000235F2F65EF0>, <__main__.Edge object at 0x00000235F2F65C88>, <__main__.Edge object at 0x00000235F2F65358>, <__main__.Edge object at 0x00000235F2F65518>, <__main__.Edge object at 0x00000235F2F65320>]\n",
      "[<__main__.Edge object at 0x00000235F2FFE3C8>, <__main__.Edge object at 0x00000235F2F4A9B0>, <__main__.Edge object at 0x00000235F2F65710>, <__main__.Edge object at 0x00000235F2F65EF0>, <__main__.Edge object at 0x00000235F2F65C88>, <__main__.Edge object at 0x00000235F2F65358>, <__main__.Edge object at 0x00000235F2F65518>]\n",
      "[2, 13, 13, 12, 11, 14, 2]\n"
     ]
    }
   ],
   "source": [
    "graph = read_graph()\n",
    "places=[0, 13, 12, 11,14, 2, 3]\n",
    "sol = Solution(places=places, graph=graph)\n",
    "v, e = minimum_spanning_arborescence(sol)"
   ]
  },
  {
   "cell_type": "markdown",
   "metadata": {
    "colab_type": "text",
    "id": "r9oJnFHbxrvj"
   },
   "source": [
    "## 3. RECHERCHE LOCALE À VOISINAGE VARIABLE  (7.5 points)\n",
    "\n",
    "Cette fois-ci, au lieu de construire une solution optimale depuis une solution vide, on commence d’une solution complète, non-optimale, qu’on améliore à l’aide d’une recherche locale en utilisant une recherche locale à voisinage variable ([Variable Neighborhood Search](https://en.wikipedia.org/wiki/Variable_neighborhood_search), VNS).\n",
    "\n",
    "<img src=\"images/vns.png\" alt=\"\" width=\"800\"/>\n",
    "\n",
    "### 3.1 Code\n",
    "\n",
    "On commence par créer une solution initiale. Celle-ci est une suite ordonnée des attractions de $p_1$ à $p_m$ dans $P$. Pour cela, on fait appel à une [recherche en profondeur (Depth-First Search, DFS)](https://moodle.polymtl.ca/pluginfile.php/445484/mod_resource/content/1/recherche_en_profondeur.mp4) qu’on arrête aussitôt qu’une solution complète est trouvée. Pour aider à diversifier la recherche, la méthode permettant de générer une solution initiale peut être randomisée de telle sorte que l'algorithme VNS puisse lancer la recherche dans différentes régions de l'espace solution. Ainsi, dans la fonction DFS, la sélection de l'enfant pour continuer la recherche doit être aléatoire.\n",
    "\n",
    "**Prescriptions d’implantation :**\n",
    "- Mettre en œuvre une recherche en profondeur\n",
    "- Créer un objet $\\texttt{Solution}$ relatif à cette solution\n",
    "- Ajuster les attributs de cet objet avec les bonnes valeurs de coûts et d’attractions visitées\n",
    "- Retourner la solution trouvée."
   ]
  },
  {
   "cell_type": "code",
   "execution_count": 804,
   "metadata": {
    "colab": {},
    "colab_type": "code",
    "id": "JKx9Z-ayxzSw"
   },
   "outputs": [],
   "source": [
    "from random import shuffle, randint, sample\n",
    "\n",
    "def initial_sol(graph, places):\n",
    "    \"\"\"\n",
    "    Return a completed initial solution\n",
    "    \"\"\"\n",
    "    sol = Solution(places=places, graph=graph)\n",
    "    v_list = []\n",
    "    for i in places:\n",
    "        v_list.append(Vertex_id(i))\n",
    "    e_list = []\n",
    "    for v1 in v_list:\n",
    "        for v2 in v_list:\n",
    "            if v1 != v2:\n",
    "                e = Edge(v1,v2, graph[v1.place_id,v2.place_id])\n",
    "                e_list.append(e)\n",
    "    g = Graph(v_list,e_list)\n",
    "    dfs(g, sol)\n",
    "    return sol\n",
    "\n",
    "\n",
    "def dfs(G, sol):\n",
    "    \"\"\"\n",
    "    Performs a Depth-First Search\n",
    "    \"\"\"\n",
    "    for node in G.get_vertives():\n",
    "        if not node.is_visited():\n",
    "            dfs_visit(G, node, sol)   \n",
    "    return\n",
    "\n",
    "\n",
    "def dfs_visit(G, root, sol):\n",
    "    pile = []\n",
    "    pile.append(root)  # root devient racine d'une nouvelle arborescence.\n",
    "    final = sol.not_visited[-1]\n",
    "    while pile:\n",
    "        u = pile.pop()\n",
    "        if not u.is_visited():\n",
    "            if u.place_id != 0:\n",
    "                sol.add(u.place_id)\n",
    "            u.set_visited()\n",
    "            u.set_order(G.count)\n",
    "            G.count += 1\n",
    "        for neighbor in G.get_neighbors(u):\n",
    "            if not neighbor.is_visited():\n",
    "                if neighbor != final:\n",
    "                    pile.append(neighbor)\n",
    "            pile = sample(pile, len(pile))\n",
    "\n",
    "    return"
   ]
  },
  {
   "cell_type": "code",
   "execution_count": 274,
   "metadata": {
    "scrolled": false
   },
   "outputs": [
    {
     "name": "stdout",
     "output_type": "stream",
     "text": [
      "[0, 14, 11, 2, 12, 13, 3]\n"
     ]
    }
   ],
   "source": [
    "places=[0, 13, 12, 11, 14, 2, 3]\n",
    "init_sol = initial_sol(graph=graph, places=places)\n",
    "print(init_sol.visited)"
   ]
  },
  {
   "cell_type": "markdown",
   "metadata": {
    "colab_type": "text",
    "id": "JnTFBFqvXpNz"
   },
   "source": [
    "Pour définir une VNS, il faut définir les $k_\\textrm{max}$ voisinages de recherche locale possibles. Pour notre problème, une bonne et simple répartition des voisinages est telle qu’un voisinage $k$ correspond à la permutation de $k$-paires de sommets dans $V(S)$.\n",
    "\n",
    "On appelle **shaking** l’étape de génération d’une solution dans le voisinage $k$. Le travail qui suit correspond à l’implantation de cette étape. $\\texttt{shaking}$ admet 3 arguments que sont la solution de départ, l’indice du voisinage $k$ ainsi que le graph courant.\n",
    "\n",
    "Attention, avant d’implanter $\\texttt{shaking}$, il est nécessaire de créer une méthode $\\texttt{swap}$ dans la classe $\\texttt{Solution}$. Cette méthode permet de mettre en œuvre la permutation dans une solution donnée (en mettant à jour tous les attributs nécessaires pour que la solution soit cohérente).\n",
    "\n",
    "**Prescriptions d’implantation de shaking :**\n",
    "- Sélectionner au hasard deux indices $i$ et $j$ différents et tels que $i, j \\in \\{2,...,m-1\\}$\n",
    "- Faire une copie de la solution courante et faire la permutation\n",
    "- Retourner la solution créée"
   ]
  },
  {
   "cell_type": "code",
   "execution_count": 602,
   "metadata": {
    "colab": {},
    "colab_type": "code",
    "id": "EWLAhZUlfFOZ"
   },
   "outputs": [],
   "source": [
    "def shaking(sol, k):\n",
    "    \"\"\"\n",
    "    Returns a solution on the k-th neighrboohood of sol\n",
    "    \"\"\"\n",
    "    len_places = len(sol.visited)\n",
    "    new_sol = copy.deepcopy(sol)\n",
    "    for i in range(k):\n",
    "        idx_1 = randint(1, len_places-2) # last number not included in randint (high exclusive)\n",
    "        idx_2 = randint(1, len_places-2)\n",
    "        while idx_1 == idx_2:\n",
    "            idx_2 = randint(1, len_places-2)\n",
    "        new_sol.swap(idx_1,idx_2)\n",
    "    return new_sol"
   ]
  },
  {
   "cell_type": "code",
   "execution_count": 603,
   "metadata": {},
   "outputs": [],
   "source": [
    "init_sol = initial_sol(graph=graph, places=places)\n",
    "new_sol = shaking(init_sol, 10)"
   ]
  },
  {
   "cell_type": "markdown",
   "metadata": {
    "colab_type": "text",
    "id": "PD_PxV54sl1o"
   },
   "source": [
    "Une dernière étape essentielle dans une VNS est l’application d’un algorithme de recherche locale à la solution issue du shaking. Pour cela, on propose la recherche locale 2-opt. Celle-ci intervertit deux arcs dans la solution, à la recherche d’une qui est meilleure.\n",
    "\n",
    "Pour un sommet $ i $, soit $ i '$ le successeur immédiat de $ i $ dans la séquence $ V (S) $. L'algorithme 2-opt fonctionne comme suit: pour chaque paire de sommets non consécutifs $ i, j $, vérifiez si en échangeant la position des sommets $ i '$ et $ j $ entraîne une amélioration du coût de la solution. Si oui, effectuez cet échange. Ce processus se répète jusqu'à ce qu'il n'y ait plus d'échanges rentables. On réalise cette opération pour toutes les paires d’arcs éligibles à la recherche du plus petit coût.\n",
    "\n",
    "<img src=\"images/2opt.png\" alt=\"\" width=\"800\"/>\n",
    "\n",
    "<img src=\"images/2opt2.png\" alt=\"\" width=\"800\"/>\n",
    "\n",
    "\n",
    "Implantez $\\texttt{local}\\_\\texttt{search}\\_\\texttt{2opt}$. \n",
    "\n",
    "**Prescriptions d’implantation :**\n",
    "- Considérer chaque paire d’indices $i = \\{2,..,m-3\\}$ and $j = \\{i+2, m-1\\}$\n",
    "- Si l’échange donne un plus bas coût, on le réalise\n",
    "- Répéter jusqu’à optimum local."
   ]
  },
  {
   "cell_type": "code",
   "execution_count": 604,
   "metadata": {
    "colab": {},
    "colab_type": "code",
    "id": "_97d-BQV8tzt"
   },
   "outputs": [],
   "source": [
    "def local_search_2opt(sol):\n",
    "    \"\"\"\n",
    "    Apply 2-opt local search over sol\n",
    "    \"\"\"\n",
    "    len_places = len(sol.visited)\n",
    "    new_sol = copy.deepcopy(sol)\n",
    "    price = sol.g\n",
    "    for i in range(1, len_places-3):\n",
    "        for j in range(i+2, len_places-1):\n",
    "            new_sol.swap(i,j)\n",
    "            if new_sol < price:\n",
    "                price = new_sol.g\n",
    "            else:\n",
    "                new_sol.swap(i,j)\n",
    "    if sol < new_sol:\n",
    "        return sol\n",
    "    return new_sol\n",
    "            \n"
   ]
  },
  {
   "cell_type": "code",
   "execution_count": 605,
   "metadata": {},
   "outputs": [
    {
     "name": "stdout",
     "output_type": "stream",
     "text": [
      "99\n",
      "99\n",
      "99\n",
      "\n",
      "\n",
      "111\n",
      "46\n"
     ]
    }
   ],
   "source": [
    "print(init_sol.g)\n",
    "init_sol.swap(1,3)\n",
    "print(init_sol.g)\n",
    "init_sol.swap(1,3)\n",
    "print(init_sol.g)\n",
    "print('\\n')\n",
    "\n",
    "init_sol = initial_sol(graph=graph, places=places)\n",
    "new_sol = shaking(init_sol, 10)\n",
    "new_sol = local_search_2opt(init_sol)\n",
    "print(init_sol.g)\n",
    "print(new_sol.g)"
   ]
  },
  {
   "cell_type": "markdown",
   "metadata": {
    "colab_type": "text",
    "id": "ZPG90m1g_HgA"
   },
   "source": [
    "Finalement, il est temps d'implanter notre VNS. La méthode $\\texttt{vns}$ reçoit une solution complète, le graphe courant, le nombre maximal de voisinages et un temps de calcul limite. Celle-ci retourne la solution optimale trouvée\n",
    "\n",
    "**Prescriptions d’implantation :**\n",
    "- À chaque itération, la VNS génère une solution dans le k-ème voisinage (shaking) à partir de la meilleure solution courante et applique une recherche locale 2-opt dessus\n",
    "- Si la nouvelle solution trouvée a un meilleur coût, mettre à jour la meilleure solution courante\n",
    "- Répéter le processus jusqu'à $\\texttt{t}\\_\\texttt{max}$"
   ]
  },
  {
   "cell_type": "code",
   "execution_count": 755,
   "metadata": {
    "colab": {},
    "colab_type": "code",
    "id": "ZQwCN2HB_m-q"
   },
   "outputs": [],
   "source": [
    "import time\n",
    "\n",
    "\n",
    "import time\n",
    "\n",
    "t_end = time.time() + 60 * 15\n",
    "    # do whatever you do\n",
    "def vns(sol, k_max, t_max):\n",
    "    \"\"\"\n",
    "    Performs the VNS algorithm\n",
    "    \"\"\"\n",
    "    best_sol = copy.deepcopy(sol)\n",
    "    t_end = time.time() + t_max\n",
    "\n",
    "    while time.time() < t_end:\n",
    "        new_sol = copy.deepcopy(shaking(best_sol, k_max))\n",
    "        temp_sol = copy.deepcopy(local_search_2opt(new_sol))\n",
    "        if temp_sol < best_sol:\n",
    "            best_sol = copy.deepcopy(temp_sol)\n",
    "    return best_sol\n",
    "        "
   ]
  },
  {
   "cell_type": "markdown",
   "metadata": {
    "colab_type": "text",
    "id": "z5TPMN2XCkPc"
   },
   "source": [
    "### 3.2 Experiments\n",
    "\n",
    "Mettez en oeuvre la VNS sur les exemples d'illustration suivants et raportez les solutions obtenue:"
   ]
  },
  {
   "cell_type": "code",
   "execution_count": 756,
   "metadata": {
    "colab": {},
    "colab_type": "code",
    "id": "Ox0PScj5CTzq"
   },
   "outputs": [
    {
     "name": "stdout",
     "output_type": "stream",
     "text": [
      "27\n",
      "[0, 5, 13, 16, 6, 9, 4]\n",
      "--- 1.0007188320159912 seconds ---\n"
     ]
    }
   ],
   "source": [
    "# test 1  --------------  OPT. SOL. = 27\n",
    "places=[0, 5, 13, 16, 6, 9, 4]\n",
    "sol = initial_sol(graph=graph, places=places)\n",
    "start_time = time.time()\n",
    "vns_sol = vns(sol=sol, k_max=10, t_max=1)\n",
    "print(vns_sol.g)\n",
    "print(vns_sol.visited)\n",
    "print(\"--- %s seconds ---\" % (time.time() - start_time))"
   ]
  },
  {
   "cell_type": "code",
   "execution_count": 757,
   "metadata": {
    "colab": {},
    "colab_type": "code",
    "id": "a5IB2FbqCTz3"
   },
   "outputs": [
    {
     "name": "stdout",
     "output_type": "stream",
     "text": [
      "30\n",
      "[0, 1, 4, 5, 9, 13, 16, 18, 20, 19]\n",
      "--- 1.0005247592926025 seconds ---\n"
     ]
    }
   ],
   "source": [
    "#test 2  --------------  OPT. SOL. = 30\n",
    "places=[0, 1, 4, 9, 20, 18, 16, 5, 13, 19]\n",
    "sol = initial_sol(graph=graph, places=places)\n",
    "\n",
    "start_time = time.time()\n",
    "vns_sol = vns(sol=sol, k_max=10, t_max=1)\n",
    "print(vns_sol.g)\n",
    "print(vns_sol.visited)\n",
    "\n",
    "print(\"--- %s seconds ---\" % (time.time() - start_time))"
   ]
  },
  {
   "cell_type": "code",
   "execution_count": 758,
   "metadata": {
    "colab": {},
    "colab_type": "code",
    "id": "nkNwTmxPCTz9"
   },
   "outputs": [
    {
     "name": "stdout",
     "output_type": "stream",
     "text": [
      "26\n",
      "[0, 2, 7, 7, 9, 13, 15, 16, 11, 8, 4]\n",
      "--- 1.0004215240478516 seconds ---\n"
     ]
    }
   ],
   "source": [
    "# test 3  --------------  OPT. SOL. = 26\n",
    "places=[0, 2, 7, 13, 11, 16, 15, 7, 9, 8, 4]\n",
    "sol = initial_sol(graph=graph, places=places)\n",
    "\n",
    "start_time = time.time()\n",
    "vns_sol = vns(sol=sol, k_max=10, t_max=1)\n",
    "print(vns_sol.g)\n",
    "print(vns_sol.visited)\n",
    "print(\"--- %s seconds ---\" % (time.time() - start_time))"
   ]
  },
  {
   "cell_type": "code",
   "execution_count": 763,
   "metadata": {},
   "outputs": [
    {
     "name": "stdout",
     "output_type": "stream",
     "text": [
      "40\n",
      "[0, 3, 9, 13, 15, 18, 20, 16, 11, 12, 14, 5, 4, 2, 1]\n",
      "--- 1.0004258155822754 seconds ---\n"
     ]
    }
   ],
   "source": [
    "# test 4  --------------  OPT. SOL. = 40\n",
    "places=[0, 2, 20, 3, 18, 12, 13, 5, 11, 16, 15, 4, 9, 14, 1]\n",
    "sol = initial_sol(graph=graph, places=places)\n",
    "\n",
    "start_time = time.time()\n",
    "vns_sol = vns(sol=sol, k_max=10, t_max=1)\n",
    "print(vns_sol.g)\n",
    "print(vns_sol.visited)\n",
    "print(\"--- %s seconds ---\" % (time.time() - start_time))"
   ]
  },
  {
   "cell_type": "markdown",
   "metadata": {},
   "source": [
    "## 4. BONUS (1 point)\n",
    "\n",
    "Expliquez dans quelle situation chacun des algorithmes développés est plus approprié (prenez en compte l’évolutivité du problème)"
   ]
  },
  {
   "cell_type": "code",
   "execution_count": null,
   "metadata": {
    "collapsed": true
   },
   "outputs": [],
   "source": [
    "#bfs poids egaux\n",
    "#A* poids non egaux\n",
    "#genitique? quand sastifait optimal local solution rapide"
   ]
  }
 ],
 "metadata": {
  "colab": {
   "name": "tp1_2018.ipynb",
   "provenance": [],
   "version": "0.3.2"
  },
  "kernelspec": {
   "display_name": "Python 3",
   "language": "python",
   "name": "python3"
  },
  "language_info": {
   "codemirror_mode": {
    "name": "ipython",
    "version": 3
   },
   "file_extension": ".py",
   "mimetype": "text/x-python",
   "name": "python",
   "nbconvert_exporter": "python",
   "pygments_lexer": "ipython3",
   "version": "3.6.5"
  }
 },
 "nbformat": 4,
 "nbformat_minor": 1
}
